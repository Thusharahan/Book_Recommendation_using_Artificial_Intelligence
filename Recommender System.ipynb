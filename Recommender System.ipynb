{
 "cells": [
  {
   "cell_type": "markdown",
   "id": "ce99335f",
   "metadata": {},
   "source": [
    "# CONTENT BASED BOOK RECOMMENDATION SYSTEM"
   ]
  },
  {
   "cell_type": "code",
   "execution_count": 2,
   "id": "883bf068",
   "metadata": {},
   "outputs": [],
   "source": [
    "#Required Libraries\n",
    "import pandas as pd\n",
    "import numpy as np "
   ]
  },
  {
   "cell_type": "code",
   "execution_count": 3,
   "id": "d6deee71",
   "metadata": {},
   "outputs": [],
   "source": [
    "#Read the Dataset\n",
    "books = pd.read_csv(\"Book.csv\")"
   ]
  },
  {
   "cell_type": "code",
   "execution_count": 4,
   "id": "55f6b0cd",
   "metadata": {},
   "outputs": [
    {
     "data": {
      "text/html": [
       "<div>\n",
       "<style scoped>\n",
       "    .dataframe tbody tr th:only-of-type {\n",
       "        vertical-align: middle;\n",
       "    }\n",
       "\n",
       "    .dataframe tbody tr th {\n",
       "        vertical-align: top;\n",
       "    }\n",
       "\n",
       "    .dataframe thead th {\n",
       "        text-align: right;\n",
       "    }\n",
       "</style>\n",
       "<table border=\"1\" class=\"dataframe\">\n",
       "  <thead>\n",
       "    <tr style=\"text-align: right;\">\n",
       "      <th></th>\n",
       "      <th>ID</th>\n",
       "      <th>title</th>\n",
       "      <th>author</th>\n",
       "      <th>rating</th>\n",
       "      <th>voters</th>\n",
       "      <th>price</th>\n",
       "      <th>currency</th>\n",
       "      <th>description</th>\n",
       "      <th>publisher</th>\n",
       "      <th>page_count</th>\n",
       "      <th>generes</th>\n",
       "      <th>ISBN</th>\n",
       "      <th>language</th>\n",
       "      <th>published_date</th>\n",
       "    </tr>\n",
       "  </thead>\n",
       "  <tbody>\n",
       "    <tr>\n",
       "      <th>0</th>\n",
       "      <td>0</td>\n",
       "      <td>Attack on Titan: Volume 13</td>\n",
       "      <td>Hajime Isayama</td>\n",
       "      <td>4.6</td>\n",
       "      <td>428</td>\n",
       "      <td>43.28</td>\n",
       "      <td>SAR</td>\n",
       "      <td>NO SAFE PLACE LEFT At great cost to the Garris...</td>\n",
       "      <td>Kodansha Comics</td>\n",
       "      <td>192.0</td>\n",
       "      <td>none</td>\n",
       "      <td>9.78E+12</td>\n",
       "      <td>English</td>\n",
       "      <td>31-Jul-14</td>\n",
       "    </tr>\n",
       "    <tr>\n",
       "      <th>1</th>\n",
       "      <td>1</td>\n",
       "      <td>Antiques Roadkill: A Trash 'n' Treasures Mystery</td>\n",
       "      <td>Barbara Allan</td>\n",
       "      <td>3.3</td>\n",
       "      <td>23</td>\n",
       "      <td>26.15</td>\n",
       "      <td>SAR</td>\n",
       "      <td>Determined to make a new start in her quaint h...</td>\n",
       "      <td>Kensington Publishing Corp.</td>\n",
       "      <td>288.0</td>\n",
       "      <td>Fiction , Mystery &amp;amp, Detective , Cozy , Gen...</td>\n",
       "      <td>9.78E+12</td>\n",
       "      <td>English</td>\n",
       "      <td>1-Jul-07</td>\n",
       "    </tr>\n",
       "    <tr>\n",
       "      <th>2</th>\n",
       "      <td>2</td>\n",
       "      <td>The Art of Super Mario Odyssey</td>\n",
       "      <td>Nintendo</td>\n",
       "      <td>3.9</td>\n",
       "      <td>9</td>\n",
       "      <td>133.85</td>\n",
       "      <td>SAR</td>\n",
       "      <td>Take a globetrotting journey all over the worl...</td>\n",
       "      <td>Dark Horse Comics</td>\n",
       "      <td>368.0</td>\n",
       "      <td>Games &amp;amp, Activities , Video &amp;amp, Electronic</td>\n",
       "      <td>9.78E+12</td>\n",
       "      <td>English</td>\n",
       "      <td>5-Nov-19</td>\n",
       "    </tr>\n",
       "    <tr>\n",
       "      <th>3</th>\n",
       "      <td>3</td>\n",
       "      <td>Getting Away Is Deadly: An Ellie Avery Mystery</td>\n",
       "      <td>Sara Rosett</td>\n",
       "      <td>4.0</td>\n",
       "      <td>10</td>\n",
       "      <td>26.15</td>\n",
       "      <td>SAR</td>\n",
       "      <td>With swollen feet and swelling belly, pregnant...</td>\n",
       "      <td>Kensington Publishing Corp.</td>\n",
       "      <td>320.0</td>\n",
       "      <td>none</td>\n",
       "      <td>9.78E+12</td>\n",
       "      <td>English</td>\n",
       "      <td>1-Mar-09</td>\n",
       "    </tr>\n",
       "    <tr>\n",
       "      <th>4</th>\n",
       "      <td>4</td>\n",
       "      <td>The Painted Man (The Demon Cycle, Book 1)</td>\n",
       "      <td>Peter V. Brett</td>\n",
       "      <td>4.5</td>\n",
       "      <td>577</td>\n",
       "      <td>28.54</td>\n",
       "      <td>SAR</td>\n",
       "      <td>The stunning debut fantasy novel from author P...</td>\n",
       "      <td>HarperCollins UK</td>\n",
       "      <td>544.0</td>\n",
       "      <td>Fiction , Fantasy , Dark Fantasy</td>\n",
       "      <td>9.78E+12</td>\n",
       "      <td>English</td>\n",
       "      <td>8-Jan-09</td>\n",
       "    </tr>\n",
       "  </tbody>\n",
       "</table>\n",
       "</div>"
      ],
      "text/plain": [
       "   ID                                             title          author  \\\n",
       "0   0                        Attack on Titan: Volume 13  Hajime Isayama   \n",
       "1   1  Antiques Roadkill: A Trash 'n' Treasures Mystery   Barbara Allan   \n",
       "2   2                    The Art of Super Mario Odyssey        Nintendo   \n",
       "3   3    Getting Away Is Deadly: An Ellie Avery Mystery     Sara Rosett   \n",
       "4   4         The Painted Man (The Demon Cycle, Book 1)  Peter V. Brett   \n",
       "\n",
       "   rating voters   price currency  \\\n",
       "0     4.6    428   43.28      SAR   \n",
       "1     3.3     23   26.15      SAR   \n",
       "2     3.9      9  133.85      SAR   \n",
       "3     4.0     10   26.15      SAR   \n",
       "4     4.5    577   28.54      SAR   \n",
       "\n",
       "                                         description  \\\n",
       "0  NO SAFE PLACE LEFT At great cost to the Garris...   \n",
       "1  Determined to make a new start in her quaint h...   \n",
       "2  Take a globetrotting journey all over the worl...   \n",
       "3  With swollen feet and swelling belly, pregnant...   \n",
       "4  The stunning debut fantasy novel from author P...   \n",
       "\n",
       "                     publisher  page_count  \\\n",
       "0              Kodansha Comics       192.0   \n",
       "1  Kensington Publishing Corp.       288.0   \n",
       "2            Dark Horse Comics       368.0   \n",
       "3  Kensington Publishing Corp.       320.0   \n",
       "4             HarperCollins UK       544.0   \n",
       "\n",
       "                                             generes      ISBN language  \\\n",
       "0                                               none  9.78E+12  English   \n",
       "1  Fiction , Mystery &amp, Detective , Cozy , Gen...  9.78E+12  English   \n",
       "2    Games &amp, Activities , Video &amp, Electronic  9.78E+12  English   \n",
       "3                                               none  9.78E+12  English   \n",
       "4                   Fiction , Fantasy , Dark Fantasy  9.78E+12  English   \n",
       "\n",
       "  published_date  \n",
       "0      31-Jul-14  \n",
       "1       1-Jul-07  \n",
       "2       5-Nov-19  \n",
       "3       1-Mar-09  \n",
       "4       8-Jan-09  "
      ]
     },
     "execution_count": 4,
     "metadata": {},
     "output_type": "execute_result"
    }
   ],
   "source": [
    "books.head()"
   ]
  },
  {
   "cell_type": "code",
   "execution_count": 5,
   "id": "a72977be",
   "metadata": {},
   "outputs": [
    {
     "data": {
      "text/html": [
       "<div>\n",
       "<style scoped>\n",
       "    .dataframe tbody tr th:only-of-type {\n",
       "        vertical-align: middle;\n",
       "    }\n",
       "\n",
       "    .dataframe tbody tr th {\n",
       "        vertical-align: top;\n",
       "    }\n",
       "\n",
       "    .dataframe thead th {\n",
       "        text-align: right;\n",
       "    }\n",
       "</style>\n",
       "<table border=\"1\" class=\"dataframe\">\n",
       "  <thead>\n",
       "    <tr style=\"text-align: right;\">\n",
       "      <th></th>\n",
       "      <th>ID</th>\n",
       "      <th>title</th>\n",
       "      <th>author</th>\n",
       "      <th>rating</th>\n",
       "      <th>description</th>\n",
       "      <th>generes</th>\n",
       "      <th>ISBN</th>\n",
       "      <th>language</th>\n",
       "    </tr>\n",
       "  </thead>\n",
       "  <tbody>\n",
       "    <tr>\n",
       "      <th>0</th>\n",
       "      <td>0</td>\n",
       "      <td>Attack on Titan: Volume 13</td>\n",
       "      <td>Hajime Isayama</td>\n",
       "      <td>4.6</td>\n",
       "      <td>NO SAFE PLACE LEFT At great cost to the Garris...</td>\n",
       "      <td>none</td>\n",
       "      <td>9.78E+12</td>\n",
       "      <td>English</td>\n",
       "    </tr>\n",
       "    <tr>\n",
       "      <th>1</th>\n",
       "      <td>1</td>\n",
       "      <td>Antiques Roadkill: A Trash 'n' Treasures Mystery</td>\n",
       "      <td>Barbara Allan</td>\n",
       "      <td>3.3</td>\n",
       "      <td>Determined to make a new start in her quaint h...</td>\n",
       "      <td>Fiction , Mystery &amp;amp, Detective , Cozy , Gen...</td>\n",
       "      <td>9.78E+12</td>\n",
       "      <td>English</td>\n",
       "    </tr>\n",
       "    <tr>\n",
       "      <th>2</th>\n",
       "      <td>2</td>\n",
       "      <td>The Art of Super Mario Odyssey</td>\n",
       "      <td>Nintendo</td>\n",
       "      <td>3.9</td>\n",
       "      <td>Take a globetrotting journey all over the worl...</td>\n",
       "      <td>Games &amp;amp, Activities , Video &amp;amp, Electronic</td>\n",
       "      <td>9.78E+12</td>\n",
       "      <td>English</td>\n",
       "    </tr>\n",
       "    <tr>\n",
       "      <th>3</th>\n",
       "      <td>3</td>\n",
       "      <td>Getting Away Is Deadly: An Ellie Avery Mystery</td>\n",
       "      <td>Sara Rosett</td>\n",
       "      <td>4.0</td>\n",
       "      <td>With swollen feet and swelling belly, pregnant...</td>\n",
       "      <td>none</td>\n",
       "      <td>9.78E+12</td>\n",
       "      <td>English</td>\n",
       "    </tr>\n",
       "    <tr>\n",
       "      <th>4</th>\n",
       "      <td>4</td>\n",
       "      <td>The Painted Man (The Demon Cycle, Book 1)</td>\n",
       "      <td>Peter V. Brett</td>\n",
       "      <td>4.5</td>\n",
       "      <td>The stunning debut fantasy novel from author P...</td>\n",
       "      <td>Fiction , Fantasy , Dark Fantasy</td>\n",
       "      <td>9.78E+12</td>\n",
       "      <td>English</td>\n",
       "    </tr>\n",
       "  </tbody>\n",
       "</table>\n",
       "</div>"
      ],
      "text/plain": [
       "   ID                                             title          author  \\\n",
       "0   0                        Attack on Titan: Volume 13  Hajime Isayama   \n",
       "1   1  Antiques Roadkill: A Trash 'n' Treasures Mystery   Barbara Allan   \n",
       "2   2                    The Art of Super Mario Odyssey        Nintendo   \n",
       "3   3    Getting Away Is Deadly: An Ellie Avery Mystery     Sara Rosett   \n",
       "4   4         The Painted Man (The Demon Cycle, Book 1)  Peter V. Brett   \n",
       "\n",
       "   rating                                        description  \\\n",
       "0     4.6  NO SAFE PLACE LEFT At great cost to the Garris...   \n",
       "1     3.3  Determined to make a new start in her quaint h...   \n",
       "2     3.9  Take a globetrotting journey all over the worl...   \n",
       "3     4.0  With swollen feet and swelling belly, pregnant...   \n",
       "4     4.5  The stunning debut fantasy novel from author P...   \n",
       "\n",
       "                                             generes      ISBN language  \n",
       "0                                               none  9.78E+12  English  \n",
       "1  Fiction , Mystery &amp, Detective , Cozy , Gen...  9.78E+12  English  \n",
       "2    Games &amp, Activities , Video &amp, Electronic  9.78E+12  English  \n",
       "3                                               none  9.78E+12  English  \n",
       "4                   Fiction , Fantasy , Dark Fantasy  9.78E+12  English  "
      ]
     },
     "execution_count": 5,
     "metadata": {},
     "output_type": "execute_result"
    }
   ],
   "source": [
    "#Drop unnecessary data\n",
    "books_cleaned = books.drop(columns=['voters','price','currency','publisher','page_count','published_date'])\n",
    "\n",
    "# Remove duplicate rows\n",
    "books_cleaned = books_cleaned.drop_duplicates()\n",
    "\n",
    "books_cleaned.head()"
   ]
  },
  {
   "cell_type": "code",
   "execution_count": 6,
   "id": "294c6a5e",
   "metadata": {},
   "outputs": [
    {
     "data": {
      "text/plain": [
       "0    NO SAFE PLACE LEFT At great cost to the Garris...\n",
       "Name: description, dtype: object"
      ]
     },
     "execution_count": 6,
     "metadata": {},
     "output_type": "execute_result"
    }
   ],
   "source": [
    "books_cleaned.head(1)['description']"
   ]
  },
  {
   "cell_type": "code",
   "execution_count": 7,
   "id": "aab852b0",
   "metadata": {},
   "outputs": [],
   "source": [
    "from sklearn.feature_extraction.text import TfidfVectorizer\n",
    "tfv = TfidfVectorizer(min_df=3, max_features=None,\n",
    "                    strip_accents='unicode', analyzer='word',token_pattern=r'\\w{1,}',\n",
    "                     ngram_range=(1,3),\n",
    "                     stop_words = 'english')\n",
    "    \n",
    "#Filling NaN with empty string\n",
    "books_cleaned['description'] = books_cleaned['description'].fillna('')"
   ]
  },
  {
   "cell_type": "code",
   "execution_count": 8,
   "id": "0f61826e",
   "metadata": {},
   "outputs": [],
   "source": [
    "tfv_matrix = tfv.fit_transform(books_cleaned['description'])"
   ]
  },
  {
   "cell_type": "code",
   "execution_count": 9,
   "id": "a1dce66e",
   "metadata": {},
   "outputs": [
    {
     "data": {
      "text/plain": [
       "<1299x52308 sparse matrix of type '<class 'numpy.float64'>'\n",
       "\twith 395385 stored elements in Compressed Sparse Row format>"
      ]
     },
     "execution_count": 9,
     "metadata": {},
     "output_type": "execute_result"
    }
   ],
   "source": [
    "tfv_matrix"
   ]
  },
  {
   "cell_type": "code",
   "execution_count": 10,
   "id": "3e3d5334",
   "metadata": {},
   "outputs": [
    {
     "data": {
      "text/plain": [
       "(1299, 52308)"
      ]
     },
     "execution_count": 10,
     "metadata": {},
     "output_type": "execute_result"
    }
   ],
   "source": [
    "tfv_matrix.shape"
   ]
  },
  {
   "cell_type": "code",
   "execution_count": 11,
   "id": "f94d5d7b",
   "metadata": {},
   "outputs": [],
   "source": [
    "from sklearn.metrics.pairwise import sigmoid_kernel\n",
    "\n",
    "#compute the sigmoid kernel\n",
    "sig = sigmoid_kernel(tfv_matrix, tfv_matrix)"
   ]
  },
  {
   "cell_type": "code",
   "execution_count": 12,
   "id": "692dbad3",
   "metadata": {},
   "outputs": [
    {
     "data": {
      "text/plain": [
       "array([0.76160218, 0.76159417, 0.76159417, ..., 0.76159422, 0.76159416,\n",
       "       0.76159416])"
      ]
     },
     "execution_count": 12,
     "metadata": {},
     "output_type": "execute_result"
    }
   ],
   "source": [
    "sig[0]"
   ]
  },
  {
   "cell_type": "code",
   "execution_count": 13,
   "id": "24f3aaac",
   "metadata": {},
   "outputs": [],
   "source": [
    "indices = pd.Series(books_cleaned.index, index=books_cleaned['title']).drop_duplicates()"
   ]
  },
  {
   "cell_type": "code",
   "execution_count": 14,
   "id": "37b6f50d",
   "metadata": {},
   "outputs": [
    {
     "data": {
      "text/plain": [
       "title\n",
       "Attack on Titan: Volume 13                                                                                                     0\n",
       "Antiques Roadkill: A Trash 'n' Treasures Mystery                                                                               1\n",
       "The Art of Super Mario Odyssey                                                                                                 2\n",
       "Getting Away Is Deadly: An Ellie Avery Mystery                                                                                 3\n",
       "The Painted Man (The Demon Cycle, Book 1)                                                                                      4\n",
       "                                                                                                                            ... \n",
       "Twas The Nightshift Before Christmas: Festive hospital diaries from the author of million-copy hit This is Going to Hurt    1294\n",
       "Why We Sleep: The New Science of Sleep and Dreams                                                                           1295\n",
       "How to Understand Business Finance: Edition 2                                                                               1296\n",
       "Spider-Man: Kraven's Last Hunt                                                                                              1297\n",
       "W is for Wasted: A Kinsey Millhone Novel                                                                                    1298\n",
       "Length: 1299, dtype: int64"
      ]
     },
     "execution_count": 14,
     "metadata": {},
     "output_type": "execute_result"
    }
   ],
   "source": [
    "indices"
   ]
  },
  {
   "cell_type": "code",
   "execution_count": 15,
   "id": "eec98725",
   "metadata": {},
   "outputs": [
    {
     "data": {
      "text/plain": [
       "title\n",
       "The Art of Super Mario Odyssey       2\n",
       "The Art of Super Mario Odyssey     301\n",
       "The Art of Super Mario Odyssey     446\n",
       "The Art of Super Mario Odyssey     659\n",
       "The Art of Super Mario Odyssey    1070\n",
       "The Art of Super Mario Odyssey    1248\n",
       "dtype: int64"
      ]
     },
     "execution_count": 15,
     "metadata": {},
     "output_type": "execute_result"
    }
   ],
   "source": [
    "indices['The Art of Super Mario Odyssey']"
   ]
  },
  {
   "cell_type": "code",
   "execution_count": 16,
   "id": "9dfea26e",
   "metadata": {},
   "outputs": [
    {
     "data": {
      "text/plain": [
       "array([0.76159417, 0.76159417, 0.76160218, ..., 0.76159418, 0.76159416,\n",
       "       0.76159416])"
      ]
     },
     "execution_count": 16,
     "metadata": {},
     "output_type": "execute_result"
    }
   ],
   "source": [
    "sig[2]"
   ]
  },
  {
   "cell_type": "code",
   "execution_count": 17,
   "id": "54c1eb55",
   "metadata": {},
   "outputs": [
    {
     "data": {
      "text/plain": [
       "[(0,\n",
       "  array([0.76159422, 0.7615942 , 0.76159418, ..., 0.76160218, 0.76159416,\n",
       "         0.76159417])),\n",
       " (1,\n",
       "  array([0.76159422, 0.7615942 , 0.76159418, ..., 0.76160218, 0.76159416,\n",
       "         0.76159417])),\n",
       " (2,\n",
       "  array([0.76159422, 0.7615942 , 0.76159418, ..., 0.76160218, 0.76159416,\n",
       "         0.76159417])),\n",
       " (3,\n",
       "  array([0.76159422, 0.7615942 , 0.76159418, ..., 0.76160218, 0.76159416,\n",
       "         0.76159417])),\n",
       " (4,\n",
       "  array([0.76159422, 0.7615942 , 0.76159418, ..., 0.76160218, 0.76159416,\n",
       "         0.76159417])),\n",
       " (5,\n",
       "  array([0.76159422, 0.7615942 , 0.76159418, ..., 0.76160218, 0.76159416,\n",
       "         0.76159417])),\n",
       " (6,\n",
       "  array([0.76159422, 0.7615942 , 0.76159418, ..., 0.76160218, 0.76159416,\n",
       "         0.76159417])),\n",
       " (7,\n",
       "  array([0.76159422, 0.7615942 , 0.76159418, ..., 0.76160218, 0.76159416,\n",
       "         0.76159417])),\n",
       " (8,\n",
       "  array([0.76159422, 0.7615942 , 0.76159418, ..., 0.76160218, 0.76159416,\n",
       "         0.76159417]))]"
      ]
     },
     "execution_count": 17,
     "metadata": {},
     "output_type": "execute_result"
    }
   ],
   "source": [
    "list(enumerate(sig[indices['How to Understand Business Finance: Edition 2']]))"
   ]
  },
  {
   "cell_type": "code",
   "execution_count": 20,
   "id": "41998cdd",
   "metadata": {},
   "outputs": [
    {
     "data": {
      "text/plain": [
       "[(0,\n",
       "  array([0.76159417, 0.76159417, 0.76160218, ..., 0.76159418, 0.76159416,\n",
       "         0.76159416])),\n",
       " (1,\n",
       "  array([0.76159417, 0.76159417, 0.76160218, ..., 0.76159418, 0.76159416,\n",
       "         0.76159416])),\n",
       " (2,\n",
       "  array([0.76159417, 0.76159417, 0.76160218, ..., 0.76159418, 0.76159416,\n",
       "         0.76159416])),\n",
       " (3,\n",
       "  array([0.76159417, 0.76159417, 0.76160218, ..., 0.76159418, 0.76159416,\n",
       "         0.76159416])),\n",
       " (4,\n",
       "  array([0.76159417, 0.76159417, 0.76160218, ..., 0.76159418, 0.76159416,\n",
       "         0.76159416])),\n",
       " (5,\n",
       "  array([0.76159417, 0.76159417, 0.76160218, ..., 0.76159418, 0.76159416,\n",
       "         0.76159416]))]"
      ]
     },
     "execution_count": 20,
     "metadata": {},
     "output_type": "execute_result"
    }
   ],
   "source": [
    "result = sorted(list(enumerate(sig[indices['The Art of Super Mario Odyssey']])), key=lambda x: x[1].all(), reverse=True)"
   ]
  },
  {
   "cell_type": "code",
   "execution_count": 23,
   "id": "2bcdb055",
   "metadata": {},
   "outputs": [
    {
     "name": "stdout",
     "output_type": "stream",
     "text": [
      "Enter your preferred genre or interest: drama\n",
      "Recommended Books:\n",
      "38     The Complete Works of William Shakespeare: All...\n",
      "111    The Complete Works of William Shakespeare: All...\n",
      "186    The Complete Works of William Shakespeare: All...\n",
      "251    The Complete Works of William Shakespeare: All...\n",
      "290    The Complete Works of William Shakespeare: All...\n",
      "Name: title, dtype: object\n"
     ]
    }
   ],
   "source": [
    "    \n",
    "def give_rec_based_on_genre(user_genre, sig=sig):\n",
    "    # Get indices of books related to the user's specified genre\n",
    "    genre_indices = books_cleaned[books_cleaned['generes'].str.contains(user_genre, case=False)].index\n",
    "    \n",
    "    # Calculate the average similarity scores for books in the specified genre\n",
    "    avg_scores = np.mean(sig[genre_indices], axis=0)\n",
    "    \n",
    "    # Enumerate and sort the books based on the average similarity scores\n",
    "    sorted_books = sorted(list(enumerate(avg_scores)), key=lambda x: x[1], reverse=True)\n",
    "    \n",
    "    # Get the top 5 recommendations\n",
    "    top_recommendations = sorted_books[:5]\n",
    "    \n",
    "    # Books indices\n",
    "    books_indices = [i[0] for i in top_recommendations]\n",
    "    \n",
    "    # Recommended Books\n",
    "    return books_cleaned['title'].iloc[books_indices]\n",
    "\n",
    "# Example usage:\n",
    "user_genre = input(\"Enter your preferred genre or interest: \")\n",
    "recommended_books = give_rec_based_on_genre(user_genre)\n",
    "\n",
    "print(\"Recommended Books:\")\n",
    "print(recommended_books)"
   ]
  },
  {
   "cell_type": "code",
   "execution_count": null,
   "id": "c108a647",
   "metadata": {},
   "outputs": [],
   "source": []
  }
 ],
 "metadata": {
  "kernelspec": {
   "display_name": "Python 3 (ipykernel)",
   "language": "python",
   "name": "python3"
  },
  "language_info": {
   "codemirror_mode": {
    "name": "ipython",
    "version": 3
   },
   "file_extension": ".py",
   "mimetype": "text/x-python",
   "name": "python",
   "nbconvert_exporter": "python",
   "pygments_lexer": "ipython3",
   "version": "3.7.8"
  }
 },
 "nbformat": 4,
 "nbformat_minor": 5
}
