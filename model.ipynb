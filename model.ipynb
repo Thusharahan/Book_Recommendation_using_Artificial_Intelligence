{
 "cells": [
  {
   "cell_type": "markdown",
   "id": "02a29ca2-9793-43e0-b3e1-b2e8dddfb027",
   "metadata": {},
   "source": [
    "# Text Representation"
   ]
  },
  {
   "cell_type": "code",
   "execution_count": 30,
   "id": "e6eb75ae-dfc9-4ef1-a10e-58ba267cf60e",
   "metadata": {},
   "outputs": [],
   "source": [
    "import pandas as pd"
   ]
  },
  {
   "cell_type": "code",
   "execution_count": 31,
   "id": "6bd4079b",
   "metadata": {
    "scrolled": true
   },
   "outputs": [
    {
     "name": "stdout",
     "output_type": "stream",
     "text": [
      "Requirement already satisfied: altair in c:\\users\\hp\\appdata\\local\\programs\\python\\python37\\lib\\site-packages (5.0.1)\n",
      "Requirement already satisfied: importlib-metadata in c:\\users\\hp\\appdata\\local\\programs\\python\\python37\\lib\\site-packages (from altair) (6.6.0)\n",
      "Requirement already satisfied: jinja2 in c:\\users\\hp\\appdata\\local\\programs\\python\\python37\\lib\\site-packages (from altair) (3.1.2)\n",
      "Requirement already satisfied: jsonschema>=3.0 in c:\\users\\hp\\appdata\\local\\programs\\python\\python37\\lib\\site-packages (from altair) (4.17.3)\n",
      "Requirement already satisfied: numpy in c:\\users\\hp\\appdata\\local\\programs\\python\\python37\\lib\\site-packages (from altair) (1.21.6)\n",
      "Requirement already satisfied: pandas>=0.18 in c:\\users\\hp\\appdata\\local\\programs\\python\\python37\\lib\\site-packages (from altair) (1.3.5)\n",
      "Requirement already satisfied: toolz in c:\\users\\hp\\appdata\\local\\programs\\python\\python37\\lib\\site-packages (from altair) (0.12.0)\n",
      "Requirement already satisfied: typing-extensions>=4.0.1 in c:\\users\\hp\\appdata\\local\\programs\\python\\python37\\lib\\site-packages (from altair) (4.7.1)\n",
      "Requirement already satisfied: attrs>=17.4.0 in c:\\users\\hp\\appdata\\local\\programs\\python\\python37\\lib\\site-packages (from jsonschema>=3.0->altair) (23.1.0)\n",
      "Requirement already satisfied: importlib-resources>=1.4.0 in c:\\users\\hp\\appdata\\local\\programs\\python\\python37\\lib\\site-packages (from jsonschema>=3.0->altair) (5.12.0)\n",
      "Requirement already satisfied: pkgutil-resolve-name>=1.3.10 in c:\\users\\hp\\appdata\\local\\programs\\python\\python37\\lib\\site-packages (from jsonschema>=3.0->altair) (1.3.10)\n",
      "Requirement already satisfied: pyrsistent!=0.17.0,!=0.17.1,!=0.17.2,>=0.14.0 in c:\\users\\hp\\appdata\\local\\programs\\python\\python37\\lib\\site-packages (from jsonschema>=3.0->altair) (0.19.3)\n",
      "Requirement already satisfied: python-dateutil>=2.7.3 in c:\\users\\hp\\appdata\\local\\programs\\python\\python37\\lib\\site-packages (from pandas>=0.18->altair) (2.8.2)\n",
      "Requirement already satisfied: pytz>=2017.3 in c:\\users\\hp\\appdata\\local\\programs\\python\\python37\\lib\\site-packages (from pandas>=0.18->altair) (2023.3)\n",
      "Requirement already satisfied: zipp>=0.5 in c:\\users\\hp\\appdata\\local\\programs\\python\\python37\\lib\\site-packages (from importlib-metadata->altair) (3.15.0)\n",
      "Requirement already satisfied: MarkupSafe>=2.0 in c:\\users\\hp\\appdata\\local\\programs\\python\\python37\\lib\\site-packages (from jinja2->altair) (2.1.2)\n",
      "Requirement already satisfied: six>=1.5 in c:\\users\\hp\\appdata\\local\\programs\\python\\python37\\lib\\site-packages (from python-dateutil>=2.7.3->pandas>=0.18->altair) (1.16.0)\n",
      "Note: you may need to restart the kernel to use updated packages.\n"
     ]
    }
   ],
   "source": [
    "pip install --upgrade altair"
   ]
  },
  {
   "cell_type": "code",
   "execution_count": 32,
   "id": "b9fbbbb2-85a2-457e-b446-7ad38a0f30a6",
   "metadata": {},
   "outputs": [
    {
     "data": {
      "text/html": [
       "<div>\n",
       "<style scoped>\n",
       "    .dataframe tbody tr th:only-of-type {\n",
       "        vertical-align: middle;\n",
       "    }\n",
       "\n",
       "    .dataframe tbody tr th {\n",
       "        vertical-align: top;\n",
       "    }\n",
       "\n",
       "    .dataframe thead th {\n",
       "        text-align: right;\n",
       "    }\n",
       "</style>\n",
       "<table border=\"1\" class=\"dataframe\">\n",
       "  <thead>\n",
       "    <tr style=\"text-align: right;\">\n",
       "      <th></th>\n",
       "      <th>Id</th>\n",
       "      <th>Name</th>\n",
       "      <th>Language</th>\n",
       "      <th>keywords</th>\n",
       "    </tr>\n",
       "  </thead>\n",
       "  <tbody>\n",
       "    <tr>\n",
       "      <th>0</th>\n",
       "      <td>1020396</td>\n",
       "      <td>the gospel of john</td>\n",
       "      <td>eng</td>\n",
       "      <td>francis_j._moloney michael_glazier eng gospel...</td>\n",
       "    </tr>\n",
       "    <tr>\n",
       "      <th>1</th>\n",
       "      <td>1073868</td>\n",
       "      <td>hanslick on the musically beautiful: sixteen l...</td>\n",
       "      <td>eng</td>\n",
       "      <td>geoffrey_payzant 1-877275-49-2 eng musikalisc...</td>\n",
       "    </tr>\n",
       "    <tr>\n",
       "      <th>2</th>\n",
       "      <td>1038843</td>\n",
       "      <td>never tell your name</td>\n",
       "      <td>eng</td>\n",
       "      <td>josie_levy_martin 1st_book_library eng nun me...</td>\n",
       "    </tr>\n",
       "    <tr>\n",
       "      <th>3</th>\n",
       "      <td>1021643</td>\n",
       "      <td>the reign of law</td>\n",
       "      <td>eng</td>\n",
       "      <td>james_lane_allen 1st_world_library eng nurser...</td>\n",
       "    </tr>\n",
       "    <tr>\n",
       "      <th>4</th>\n",
       "      <td>1019884</td>\n",
       "      <td>cousin phillis</td>\n",
       "      <td>eng</td>\n",
       "      <td>elizabeth_gaskell 1st_world_library eng railw...</td>\n",
       "    </tr>\n",
       "  </tbody>\n",
       "</table>\n",
       "</div>"
      ],
      "text/plain": [
       "        Id                                               Name Language  \\\n",
       "0  1020396                                 the gospel of john      eng   \n",
       "1  1073868  hanslick on the musically beautiful: sixteen l...      eng   \n",
       "2  1038843                               never tell your name      eng   \n",
       "3  1021643                                   the reign of law      eng   \n",
       "4  1019884                                     cousin phillis      eng   \n",
       "\n",
       "                                            keywords  \n",
       "0   francis_j._moloney michael_glazier eng gospel...  \n",
       "1   geoffrey_payzant 1-877275-49-2 eng musikalisc...  \n",
       "2   josie_levy_martin 1st_book_library eng nun me...  \n",
       "3   james_lane_allen 1st_world_library eng nurser...  \n",
       "4   elizabeth_gaskell 1st_world_library eng railw...  "
      ]
     },
     "execution_count": 32,
     "metadata": {},
     "output_type": "execute_result"
    }
   ],
   "source": [
    "# Fetch preprocessed data\n",
    "model_data = pd.read_csv(\"data/keywords.csv\")\n",
    "model_data.head()"
   ]
  },
  {
   "cell_type": "markdown",
   "id": "016bbc90-a579-4353-b0fd-cc6e5d0514a6",
   "metadata": {},
   "source": [
    "---\n",
    "### Vectorize the keywords summary using TF-IDF\n",
    "- Convert the keywords for each book into a numeric vector, based on the frequency of each word in the book's keywords\n",
    "- Keep token pattern such that tokens with underscore are not ignored.\n",
    "- Remove tokens occuring less than 3 times or occur in more than 60% of the documents (common tokens).\n",
    "- Remove english language stop words"
   ]
  },
  {
   "cell_type": "code",
   "execution_count": 33,
   "id": "956d3ed1-34ed-4ea6-912c-ac364476d034",
   "metadata": {},
   "outputs": [],
   "source": [
    "from sklearn.feature_extraction.text import TfidfVectorizer\n",
    "tfidf = TfidfVectorizer(analyzer = 'word',\n",
    "                        min_df=3,\n",
    "                        max_df = 0.6,\n",
    "                        stop_words=\"english\",\n",
    "                        encoding = 'utf-8', \n",
    "                        token_pattern=r\"(?u)\\S\\S+\")\n",
    "tfidf_encoding = tfidf.fit_transform(model_data[\"keywords\"])"
   ]
  },
  {
   "cell_type": "code",
   "execution_count": 34,
   "id": "1e7df3fe-83ef-43f8-8bb0-2c651db28758",
   "metadata": {},
   "outputs": [
    {
     "name": "stdout",
     "output_type": "stream",
     "text": [
      "['1609' '1611' '1692' '1773' '1775' '1776' '1781' '1783' '1787' '1789'\n",
      " '1797' '1800s' '1803' '1805' '1806' '1812' '1814' '1815' '1830' '1830s'\n",
      " '1832' '1836' '1837' '1838' '1839' '1840' '1840s' '1846' '1848' '1850'\n",
      " '1850s' '1852' '1854' '1857' '1860' '1860s' '1861' '1862' '1863' '1864'\n",
      " '1865' '1867' '1870' '1876' '1880' '1880s' '1881' '1886' '1889' '1890'\n",
      " '1890s' '1892' '1896' '1900' '1900s' '1902' '1903' '1910' '1912' '1914'\n",
      " '19141918' '1915' '1916' '1917' '1918' '1919' '1920' '1920s' '1921'\n",
      " '1923' '1925' '1927' '1929' '1930' '1930s' '1931' '1932' '1933' '1937'\n",
      " '1938' '1939' '1940' '1940s' '1941' '1942' '1943' '1944' '1945' '1946'\n",
      " '1947' '1948' '1949' '1950' '1950s' '1954' '1956' '1958' '1959' '1960s']\n"
     ]
    }
   ],
   "source": [
    "# Preview first 100 words in the vocabulary\n",
    "print(tfidf.get_feature_names_out()[1:100])"
   ]
  },
  {
   "cell_type": "code",
   "execution_count": 35,
   "id": "2f24f72e-7086-4450-b2c4-6ec0ccf18faa",
   "metadata": {},
   "outputs": [
    {
     "data": {
      "text/plain": [
       "array([0., 0., 0., ..., 0., 0., 0.])"
      ]
     },
     "execution_count": 35,
     "metadata": {},
     "output_type": "execute_result"
    }
   ],
   "source": [
    "# Lets find representation of a new book's keywords in the existing vocabulary space\n",
    "tfidf.transform([\"looking for alaska by john green\"]).toarray()[0]"
   ]
  },
  {
   "cell_type": "code",
   "execution_count": 36,
   "id": "76f78c2e-c27d-49ed-9fa5-fb5310784a45",
   "metadata": {},
   "outputs": [
    {
     "data": {
      "text/plain": [
       "(29394, 12881)"
      ]
     },
     "execution_count": 36,
     "metadata": {},
     "output_type": "execute_result"
    }
   ],
   "source": [
    "tfidf_encoding.toarray().shape"
   ]
  },
  {
   "cell_type": "markdown",
   "id": "07464c92-ef64-475c-9e07-a536dcebd671",
   "metadata": {},
   "source": [
    "---\n",
    "### Visualize the TF-IDF word embeddings"
   ]
  },
  {
   "cell_type": "code",
   "execution_count": 37,
   "id": "567e617c-6cfb-427e-ab4a-238a8bdc0604",
   "metadata": {},
   "outputs": [],
   "source": [
    "tfidf_df = pd.DataFrame(tfidf_encoding.toarray(), index=model_data[\"Name\"], columns=tfidf.get_feature_names_out())"
   ]
  },
  {
   "cell_type": "code",
   "execution_count": 38,
   "id": "e70b07ab-6104-4e6e-b0ee-f1da900faecd",
   "metadata": {},
   "outputs": [],
   "source": [
    "# Find top 50 books with maximum tf-idf total score\n",
    "tfidf_df[\"total\"]= tfidf_df.sum(axis=1)\n",
    "tfidf_df = tfidf_df.sort_values(\"total\", ascending=False)\n",
    "del tfidf_df[\"total\"]"
   ]
  },
  {
   "cell_type": "code",
   "execution_count": 39,
   "id": "a745ecc2-de07-4066-985e-f550ea90e192",
   "metadata": {},
   "outputs": [
    {
     "data": {
      "text/html": [
       "<div>\n",
       "<style scoped>\n",
       "    .dataframe tbody tr th:only-of-type {\n",
       "        vertical-align: middle;\n",
       "    }\n",
       "\n",
       "    .dataframe tbody tr th {\n",
       "        vertical-align: top;\n",
       "    }\n",
       "\n",
       "    .dataframe thead th {\n",
       "        text-align: right;\n",
       "    }\n",
       "</style>\n",
       "<table border=\"1\" class=\"dataframe\">\n",
       "  <thead>\n",
       "    <tr style=\"text-align: right;\">\n",
       "      <th></th>\n",
       "      <th>book</th>\n",
       "      <th>term</th>\n",
       "      <th>tfidf</th>\n",
       "    </tr>\n",
       "  </thead>\n",
       "  <tbody>\n",
       "    <tr>\n",
       "      <th>379136</th>\n",
       "      <td>23 ways to mess up valentine's day (willimena ...</td>\n",
       "      <td>jump_at_the_sun</td>\n",
       "      <td>0.407913</td>\n",
       "    </tr>\n",
       "    <tr>\n",
       "      <th>384966</th>\n",
       "      <td>23 ways to mess up valentine's day (willimena ...</td>\n",
       "      <td>valerie_wilson_wesley</td>\n",
       "      <td>0.395556</td>\n",
       "    </tr>\n",
       "    <tr>\n",
       "      <th>374742</th>\n",
       "      <td>23 ways to mess up valentine's day (willimena ...</td>\n",
       "      <td>celebrate</td>\n",
       "      <td>0.381878</td>\n",
       "    </tr>\n",
       "    <tr>\n",
       "      <th>384962</th>\n",
       "      <td>23 ways to mess up valentine's day (willimena ...</td>\n",
       "      <td>valentine</td>\n",
       "      <td>0.381878</td>\n",
       "    </tr>\n",
       "    <tr>\n",
       "      <th>384963</th>\n",
       "      <td>23 ways to mess up valentine's day (willimena ...</td>\n",
       "      <td>valentines</td>\n",
       "      <td>0.381878</td>\n",
       "    </tr>\n",
       "    <tr>\n",
       "      <th>...</th>\n",
       "      <td>...</td>\n",
       "      <td>...</td>\n",
       "      <td>...</td>\n",
       "    </tr>\n",
       "    <tr>\n",
       "      <th>613148</th>\n",
       "      <td>white lies (arcane society, #2)</td>\n",
       "      <td>piatkus_books</td>\n",
       "      <td>0.359916</td>\n",
       "    </tr>\n",
       "    <tr>\n",
       "      <th>613598</th>\n",
       "      <td>white lies (arcane society, #2)</td>\n",
       "      <td>psychic</td>\n",
       "      <td>0.328203</td>\n",
       "    </tr>\n",
       "    <tr>\n",
       "      <th>604232</th>\n",
       "      <td>white lies (arcane society, #2)</td>\n",
       "      <td>1839</td>\n",
       "      <td>0.000000</td>\n",
       "    </tr>\n",
       "    <tr>\n",
       "      <th>604233</th>\n",
       "      <td>white lies (arcane society, #2)</td>\n",
       "      <td>1840</td>\n",
       "      <td>0.000000</td>\n",
       "    </tr>\n",
       "    <tr>\n",
       "      <th>604234</th>\n",
       "      <td>white lies (arcane society, #2)</td>\n",
       "      <td>1840s</td>\n",
       "      <td>0.000000</td>\n",
       "    </tr>\n",
       "  </tbody>\n",
       "</table>\n",
       "<p>500 rows × 3 columns</p>\n",
       "</div>"
      ],
      "text/plain": [
       "                                                     book  \\\n",
       "379136  23 ways to mess up valentine's day (willimena ...   \n",
       "384966  23 ways to mess up valentine's day (willimena ...   \n",
       "374742  23 ways to mess up valentine's day (willimena ...   \n",
       "384962  23 ways to mess up valentine's day (willimena ...   \n",
       "384963  23 ways to mess up valentine's day (willimena ...   \n",
       "...                                                   ...   \n",
       "613148                    white lies (arcane society, #2)   \n",
       "613598                    white lies (arcane society, #2)   \n",
       "604232                    white lies (arcane society, #2)   \n",
       "604233                    white lies (arcane society, #2)   \n",
       "604234                    white lies (arcane society, #2)   \n",
       "\n",
       "                         term     tfidf  \n",
       "379136        jump_at_the_sun  0.407913  \n",
       "384966  valerie_wilson_wesley  0.395556  \n",
       "374742              celebrate  0.381878  \n",
       "384962              valentine  0.381878  \n",
       "384963             valentines  0.381878  \n",
       "...                       ...       ...  \n",
       "613148          piatkus_books  0.359916  \n",
       "613598                psychic  0.328203  \n",
       "604232                   1839  0.000000  \n",
       "604233                   1840  0.000000  \n",
       "604234                  1840s  0.000000  \n",
       "\n",
       "[500 rows x 3 columns]"
      ]
     },
     "metadata": {},
     "output_type": "display_data"
    }
   ],
   "source": [
    "# Leave first few words containing years and select top 50 books\n",
    "tfidf_df_preview = tfidf_df.iloc[100:150,25:].copy()\n",
    "tfidf_df_preview = tfidf_df_preview.stack().reset_index()\n",
    "tfidf_df_preview = tfidf_df_preview.rename(columns={0:'tfidf', 'Name': 'book','level_1': 'term'})\n",
    "tfidf_df_preview = tfidf_df_preview.sort_values(by=['book','tfidf'], ascending=[True,False]).groupby(['book']).head(10)\n",
    "display(tfidf_df_preview)"
   ]
  },
  {
   "cell_type": "code",
   "execution_count": 40,
   "id": "b2dfaa38-ed26-49d2-af0a-69faae9c2413",
   "metadata": {},
   "outputs": [
    {
     "data": {
      "text/html": [
       "<div>\n",
       "<style scoped>\n",
       "    .dataframe tbody tr th:only-of-type {\n",
       "        vertical-align: middle;\n",
       "    }\n",
       "\n",
       "    .dataframe tbody tr th {\n",
       "        vertical-align: top;\n",
       "    }\n",
       "\n",
       "    .dataframe thead th {\n",
       "        text-align: right;\n",
       "    }\n",
       "</style>\n",
       "<table border=\"1\" class=\"dataframe\">\n",
       "  <thead>\n",
       "    <tr style=\"text-align: right;\">\n",
       "      <th></th>\n",
       "      <th>book</th>\n",
       "      <th>term</th>\n",
       "      <th>tfidf</th>\n",
       "    </tr>\n",
       "  </thead>\n",
       "  <tbody>\n",
       "  </tbody>\n",
       "</table>\n",
       "</div>"
      ],
      "text/plain": [
       "Empty DataFrame\n",
       "Columns: [book, term, tfidf]\n",
       "Index: []"
      ]
     },
     "execution_count": 40,
     "metadata": {},
     "output_type": "execute_result"
    }
   ],
   "source": [
    "# Find books with term \"london\"\n",
    "tfidf_df_preview[tfidf_df_preview['term'].str.contains('london')]"
   ]
  },
  {
   "cell_type": "code",
   "execution_count": 41,
   "id": "bdfe03d8-e74c-42fb-9ac8-48b8d8dc5b29",
   "metadata": {},
   "outputs": [
    {
     "data": {
      "text/html": [
       "<div>\n",
       "<style scoped>\n",
       "    .dataframe tbody tr th:only-of-type {\n",
       "        vertical-align: middle;\n",
       "    }\n",
       "\n",
       "    .dataframe tbody tr th {\n",
       "        vertical-align: top;\n",
       "    }\n",
       "\n",
       "    .dataframe thead th {\n",
       "        text-align: right;\n",
       "    }\n",
       "</style>\n",
       "<table border=\"1\" class=\"dataframe\">\n",
       "  <thead>\n",
       "    <tr style=\"text-align: right;\">\n",
       "      <th></th>\n",
       "      <th>book</th>\n",
       "      <th>term</th>\n",
       "      <th>tfidf</th>\n",
       "    </tr>\n",
       "  </thead>\n",
       "  <tbody>\n",
       "    <tr>\n",
       "      <th>411874</th>\n",
       "      <td>the father hunt: a nero wolfe mystery</td>\n",
       "      <td>amys</td>\n",
       "      <td>0.413906</td>\n",
       "    </tr>\n",
       "    <tr>\n",
       "      <th>424062</th>\n",
       "      <td>the father hunt: a nero wolfe mystery</td>\n",
       "      <td>wolfes</td>\n",
       "      <td>0.407990</td>\n",
       "    </tr>\n",
       "    <tr>\n",
       "      <th>412245</th>\n",
       "      <td>the father hunt: a nero wolfe mystery</td>\n",
       "      <td>audiogo</td>\n",
       "      <td>0.380141</td>\n",
       "    </tr>\n",
       "    <tr>\n",
       "      <th>412062</th>\n",
       "      <td>the father hunt: a nero wolfe mystery</td>\n",
       "      <td>archie</td>\n",
       "      <td>0.374596</td>\n",
       "    </tr>\n",
       "    <tr>\n",
       "      <th>411870</th>\n",
       "      <td>the father hunt: a nero wolfe mystery</td>\n",
       "      <td>amy</td>\n",
       "      <td>0.355772</td>\n",
       "    </tr>\n",
       "  </tbody>\n",
       "</table>\n",
       "</div>"
      ],
      "text/plain": [
       "                                         book     term     tfidf\n",
       "411874  the father hunt: a nero wolfe mystery     amys  0.413906\n",
       "424062  the father hunt: a nero wolfe mystery   wolfes  0.407990\n",
       "412245  the father hunt: a nero wolfe mystery  audiogo  0.380141\n",
       "412062  the father hunt: a nero wolfe mystery   archie  0.374596\n",
       "411870  the father hunt: a nero wolfe mystery      amy  0.355772"
      ]
     },
     "execution_count": 41,
     "metadata": {},
     "output_type": "execute_result"
    }
   ],
   "source": [
    "# Find book names with word mystery\n",
    "tfidf_df_preview[tfidf_df_preview['book'].str.contains('mystery')].head(5)"
   ]
  },
  {
   "cell_type": "code",
   "execution_count": 42,
   "id": "de67c657-bcf6-475a-afd7-86460b465428",
   "metadata": {},
   "outputs": [
    {
     "data": {
      "text/html": [
       "<div>\n",
       "<style scoped>\n",
       "    .dataframe tbody tr th:only-of-type {\n",
       "        vertical-align: middle;\n",
       "    }\n",
       "\n",
       "    .dataframe tbody tr th {\n",
       "        vertical-align: top;\n",
       "    }\n",
       "\n",
       "    .dataframe thead th {\n",
       "        text-align: right;\n",
       "    }\n",
       "</style>\n",
       "<table border=\"1\" class=\"dataframe\">\n",
       "  <thead>\n",
       "    <tr style=\"text-align: right;\">\n",
       "      <th></th>\n",
       "      <th>book</th>\n",
       "      <th>term</th>\n",
       "      <th>tfidf</th>\n",
       "    </tr>\n",
       "  </thead>\n",
       "  <tbody>\n",
       "    <tr>\n",
       "      <th>379136</th>\n",
       "      <td>23 ways to mess up valentine's day (willimena ...</td>\n",
       "      <td>jump at the sun</td>\n",
       "      <td>0.407913</td>\n",
       "    </tr>\n",
       "    <tr>\n",
       "      <th>384966</th>\n",
       "      <td>23 ways to mess up valentine's day (willimena ...</td>\n",
       "      <td>valerie wilson wesley</td>\n",
       "      <td>0.395556</td>\n",
       "    </tr>\n",
       "    <tr>\n",
       "      <th>374742</th>\n",
       "      <td>23 ways to mess up valentine's day (willimena ...</td>\n",
       "      <td>celebrate</td>\n",
       "      <td>0.381878</td>\n",
       "    </tr>\n",
       "    <tr>\n",
       "      <th>384962</th>\n",
       "      <td>23 ways to mess up valentine's day (willimena ...</td>\n",
       "      <td>valentine</td>\n",
       "      <td>0.381878</td>\n",
       "    </tr>\n",
       "    <tr>\n",
       "      <th>384963</th>\n",
       "      <td>23 ways to mess up valentine's day (willimena ...</td>\n",
       "      <td>valentines</td>\n",
       "      <td>0.381878</td>\n",
       "    </tr>\n",
       "  </tbody>\n",
       "</table>\n",
       "</div>"
      ],
      "text/plain": [
       "                                                     book  \\\n",
       "379136  23 ways to mess up valentine's day (willimena ...   \n",
       "384966  23 ways to mess up valentine's day (willimena ...   \n",
       "374742  23 ways to mess up valentine's day (willimena ...   \n",
       "384962  23 ways to mess up valentine's day (willimena ...   \n",
       "384963  23 ways to mess up valentine's day (willimena ...   \n",
       "\n",
       "                         term     tfidf  \n",
       "379136        jump at the sun  0.407913  \n",
       "384966  valerie wilson wesley  0.395556  \n",
       "374742              celebrate  0.381878  \n",
       "384962              valentine  0.381878  \n",
       "384963             valentines  0.381878  "
      ]
     },
     "execution_count": 42,
     "metadata": {},
     "output_type": "execute_result"
    }
   ],
   "source": [
    "def process_word_matrix(word_vec):\n",
    "    # Remove underscores in terms\n",
    "    word_vec.term = word_vec.term.str.replace('_',' ')\n",
    "\n",
    "    # Remove terms with zero tfidf score\n",
    "    word_vec = word_vec[word_vec.tfidf > 0]\n",
    "    \n",
    "    return word_vec\n",
    "\n",
    "tfidf_vec = process_word_matrix(tfidf_df_preview.copy())    \n",
    "tfidf_vec.iloc[0:5]"
   ]
  },
  {
   "cell_type": "markdown",
   "id": "32fba63d-2d7e-4301-8e27-93abf0d1fa8b",
   "metadata": {},
   "source": [
    "- For each book, we will rank its terms based on its tf-idf score. Term with maximum score within the document will get rank 1.\n",
    "- Two or more terms may have same tf-idf score, such terms will overlap in the heatmap."
   ]
  },
  {
   "cell_type": "code",
   "execution_count": 43,
   "id": "71905a0a-3d01-4ff9-862b-5f5fa42ff5e6",
   "metadata": {},
   "outputs": [
    {
     "data": {
      "application/vnd.vegalite.v5+json": {
       "$schema": "https://vega.github.io/schema/vega-lite/v5.8.0.json",
       "config": {
        "view": {
         "continuousHeight": 300,
         "continuousWidth": 300
        }
       },
       "data": {
        "name": "data-92b1c7a6e68fb30a05d55d68a585bcef"
       },
       "datasets": {
        "data-92b1c7a6e68fb30a05d55d68a585bcef": [
         {
          "book": "23 ways to mess up valentine's day (willimena rules!, #5)",
          "term": "jump at the sun",
          "tfidf": 0.40791263770904557
         },
         {
          "book": "23 ways to mess up valentine's day (willimena rules!, #5)",
          "term": "valerie wilson wesley",
          "tfidf": 0.3955559595754318
         },
         {
          "book": "23 ways to mess up valentine's day (willimena rules!, #5)",
          "term": "celebrate",
          "tfidf": 0.3818775602843544
         },
         {
          "book": "23 ways to mess up valentine's day (willimena rules!, #5)",
          "term": "valentine",
          "tfidf": 0.3818775602843544
         },
         {
          "book": "23 ways to mess up valentine's day (willimena rules!, #5)",
          "term": "valentines",
          "tfidf": 0.3818775602843544
         },
         {
          "book": "23 ways to mess up valentine's day (willimena rules!, #5)",
          "term": "holidays",
          "tfidf": 0.36072444023462696
         },
         {
          "book": "23 ways to mess up valentine's day (willimena rules!, #5)",
          "term": "cards",
          "tfidf": 0.33095200243061074
         },
         {
          "book": "a long and winding road",
          "term": "win blevins",
          "tfidf": 0.41532229966109946
         },
         {
          "book": "a long and winding road",
          "term": "navajo",
          "tfidf": 0.4021800589230912
         },
         {
          "book": "a long and winding road",
          "term": "rescue",
          "tfidf": 0.3788439043081694
         },
         {
          "book": "a long and winding road",
          "term": "forge books",
          "tfidf": 0.3744898292798019
         },
         {
          "book": "a long and winding road",
          "term": "trail",
          "tfidf": 0.3634727722190356
         },
         {
          "book": "a long and winding road",
          "term": "sam",
          "tfidf": 0.35737262947118636
         },
         {
          "book": "a long and winding road",
          "term": "kidnapped",
          "tfidf": 0.3495219579706281
         },
         {
          "book": "a millionaire for molly",
          "term": "harlequin romance",
          "tfidf": 0.40682750739117896
         },
         {
          "book": "a millionaire for molly",
          "term": "businessman",
          "tfidf": 0.39450370052663447
         },
         {
          "book": "a millionaire for molly",
          "term": "attraction",
          "tfidf": 0.3894580771724287
         },
         {
          "book": "a millionaire for molly",
          "term": "marion lennox",
          "tfidf": 0.3808616885508754
         },
         {
          "book": "a millionaire for molly",
          "term": "jackson",
          "tfidf": 0.36221340856211476
         },
         {
          "book": "a millionaire for molly",
          "term": "millionaire",
          "tfidf": 0.3552513761980758
         },
         {
          "book": "a millionaire for molly",
          "term": "molly",
          "tfidf": 0.35316128919686274
         },
         {
          "book": "bailey goes camping",
          "term": "kevin henkes",
          "tfidf": 0.42069695410052765
         },
         {
          "book": "bailey goes camping",
          "term": "mama",
          "tfidf": 0.3817684946462174
         },
         {
          "book": "bailey goes camping",
          "term": "betty",
          "tfidf": 0.3777192574979744
         },
         {
          "book": "bailey goes camping",
          "term": "camping",
          "tfidf": 0.37402259360803597
         },
         {
          "book": "bailey goes camping",
          "term": "bailey",
          "tfidf": 0.37062199247578476
         },
         {
          "book": "bailey goes camping",
          "term": "bruce",
          "tfidf": 0.37062199247578476
         },
         {
          "book": "bailey goes camping",
          "term": "greenwillow books",
          "tfidf": 0.3463824889894917
         },
         {
          "book": "black victory: the rise and fall of the white primary in texas",
          "term": "darlene clark hine",
          "tfidf": 0.4068270170587261
         },
         {
          "book": "black victory: the rise and fall of the white primary in texas",
          "term": "naacp",
          "tfidf": 0.3901688263520271
         },
         {
          "book": "black victory: the rise and fall of the white primary in texas",
          "term": "1965",
          "tfidf": 0.38383567617269104
         },
         {
          "book": "black victory: the rise and fall of the white primary in texas",
          "term": "darlene",
          "tfidf": 0.38383567617269104
         },
         {
          "book": "black victory: the rise and fall of the white primary in texas",
          "term": "mobilization",
          "tfidf": 0.38383567617269104
         },
         {
          "book": "black victory: the rise and fall of the white primary in texas",
          "term": "liberation",
          "tfidf": 0.3652662500066935
         },
         {
          "book": "black victory: the rise and fall of the white primary in texas",
          "term": "university of missouri",
          "tfidf": 0.32688094595951556
         },
         {
          "book": "bunny mail",
          "term": "viking books for young readers",
          "tfidf": 0.40426557400261254
         },
         {
          "book": "bunny mail",
          "term": "max",
          "tfidf": 0.3977036079520904
         },
         {
          "book": "bunny mail",
          "term": "grandma",
          "tfidf": 0.3920193744082425
         },
         {
          "book": "bunny mail",
          "term": "invitations",
          "tfidf": 0.3825204840383937
         },
         {
          "book": "bunny mail",
          "term": "rosemary wells",
          "tfidf": 0.37846327089573367
         },
         {
          "book": "bunny mail",
          "term": "letter",
          "tfidf": 0.3470647767136191
         },
         {
          "book": "bunny mail",
          "term": "ruby",
          "tfidf": 0.33869111093363485
         },
         {
          "book": "casting the circle: a women's book of ritual",
          "term": "empowerment",
          "tfidf": 0.4051481796230422
         },
         {
          "book": "casting the circle: a women's book of ritual",
          "term": "diane",
          "tfidf": 0.39996641551210715
         },
         {
          "book": "casting the circle: a women's book of ritual",
          "term": "diane stein",
          "tfidf": 0.38731008830774666
         },
         {
          "book": "casting the circle: a women's book of ritual",
          "term": "stein",
          "tfidf": 0.3805283607359132
         },
         {
          "book": "casting the circle: a women's book of ritual",
          "term": "crossing press",
          "tfidf": 0.37749307824901573
         },
         {
          "book": "casting the circle: a women's book of ritual",
          "term": "sacred",
          "tfidf": 0.3550197409859244
         },
         {
          "book": "casting the circle: a women's book of ritual",
          "term": "ritual",
          "tfidf": 0.33545616787530597
         },
         {
          "book": "conrad's fate",
          "term": "alfred",
          "tfidf": 0.40283489854586835
         },
         {
          "book": "conrad's fate",
          "term": "mage",
          "tfidf": 0.3970773253251023
         },
         {
          "book": "conrad's fate",
          "term": "narrator",
          "tfidf": 0.38745587743796794
         },
         {
          "book": "conrad's fate",
          "term": "conrad",
          "tfidf": 0.38334631692098287
         },
         {
          "book": "conrad's fate",
          "term": "christopher",
          "tfidf": 0.3699731342229477
         },
         {
          "book": "conrad's fate",
          "term": "diana wynne jones",
          "tfidf": 0.359780581958483
         },
         {
          "book": "conrad's fate",
          "term": "collins",
          "tfidf": 0.34154794592700816
         },
         {
          "book": "diane stein's essential reiki workshop",
          "term": "dvd",
          "tfidf": 0.4148772688425101
         },
         {
          "book": "diane stein's essential reiki workshop",
          "term": "reiki",
          "tfidf": 0.407062416052989
         },
         {
          "book": "diane stein's essential reiki workshop",
          "term": "diane stein",
          "tfidf": 0.3773520336231744
         },
         {
          "book": "diane stein's essential reiki workshop",
          "term": "instructors",
          "tfidf": 0.3739211613316971
         },
         {
          "book": "diane stein's essential reiki workshop",
          "term": "crossing press",
          "tfidf": 0.36778742680916904
         },
         {
          "book": "diane stein's essential reiki workshop",
          "term": "workshop",
          "tfidf": 0.3624225563349402
         },
         {
          "book": "diane stein's essential reiki workshop",
          "term": "practitioners",
          "tfidf": 0.33667157350217375
         },
         {
          "book": "double",
          "term": "seaside",
          "tfidf": 0.41184392693478417
         },
         {
          "book": "double",
          "term": "mccone",
          "tfidf": 0.3932607487239461
         },
         {
          "book": "double",
          "term": "sharon",
          "tfidf": 0.38007577395416026
         },
         {
          "book": "double",
          "term": "marcia muller",
          "tfidf": 0.377839635017503
         },
         {
          "book": "double",
          "term": "hotel",
          "tfidf": 0.3680511588016916
         },
         {
          "book": "double",
          "term": "mysterious press",
          "tfidf": 0.3680511588016916
         },
         {
          "book": "double",
          "term": "detectives",
          "tfidf": 0.3429094175324843
         },
         {
          "book": "draco (the inquisition war #1)",
          "term": "ian watson",
          "tfidf": 0.40144420134224706
         },
         {
          "book": "draco (the inquisition war #1)",
          "term": "spielberg",
          "tfidf": 0.40144420134224706
         },
         {
          "book": "draco (the inquisition war #1)",
          "term": "steven",
          "tfidf": 0.40144420134224706
         },
         {
          "book": "draco (the inquisition war #1)",
          "term": "warhammer",
          "tfidf": 0.3850064187377248
         },
         {
          "book": "draco (the inquisition war #1)",
          "term": "watson",
          "tfidf": 0.3604333337332112
         },
         {
          "book": "draco (the inquisition war #1)",
          "term": "games workshop(uk)",
          "tfidf": 0.3452430514078244
         },
         {
          "book": "draco (the inquisition war #1)",
          "term": "inquisition",
          "tfidf": 0.3452430514078244
         },
         {
          "book": "dream tales and prose poems",
          "term": "ivan turgenev",
          "tfidf": 0.40506847751260694
         },
         {
          "book": "dream tales and prose poems",
          "term": "artifact",
          "tfidf": 0.3984934788767913
         },
         {
          "book": "dream tales and prose poems",
          "term": "scanning",
          "tfidf": 0.3927979559940596
         },
         {
          "book": "dream tales and prose poems",
          "term": "university press of the pacific",
          "tfidf": 0.38328020007416286
         },
         {
          "book": "dream tales and prose poems",
          "term": "preservation",
          "tfidf": 0.3632331057338583
         },
         {
          "book": "dream tales and prose poems",
          "term": "imperfections",
          "tfidf": 0.3559031659235148
         },
         {
          "book": "dream tales and prose poems",
          "term": "printed",
          "tfidf": 0.3425247103507195
         },
         {
          "book": "easy wood furniture projects: 32 step-by-step projects for the home",
          "term": "black & decker",
          "tfidf": 0.41142636966344664
         },
         {
          "book": "easy wood furniture projects: 32 step-by-step projects for the home",
          "term": "workshop",
          "tfidf": 0.3951487824388741
         },
         {
          "book": "easy wood furniture projects: 32 step-by-step projects for the home",
          "term": "creative publishing international",
          "tfidf": 0.38755370576053993
         },
         {
          "book": "easy wood furniture projects: 32 step-by-step projects for the home",
          "term": "furniture",
          "tfidf": 0.3810221424999858
         },
         {
          "book": "easy wood furniture projects: 32 step-by-step projects for the home",
          "term": "tools",
          "tfidf": 0.37903318320822826
         },
         {
          "book": "easy wood furniture projects: 32 step-by-step projects for the home",
          "term": "projects",
          "tfidf": 0.35288038468247807
         },
         {
          "book": "easy wood furniture projects: 32 step-by-step projects for the home",
          "term": "building",
          "tfidf": 0.33319560965296285
         },
         {
          "book": "faith in a long shot (thoroughbred, #57)",
          "term": "fever",
          "tfidf": 0.3985185556333264
         },
         {
          "book": "faith in a long shot (thoroughbred, #57)",
          "term": "joanna campbell",
          "tfidf": 0.3985185556333264
         },
         {
          "book": "faith in a long shot (thoroughbred, #57)",
          "term": "victory",
          "tfidf": 0.39204987415081144
         },
         {
          "book": "faith in a long shot (thoroughbred, #57)",
          "term": "harperentertainment",
          "tfidf": 0.38150387467593866
         },
         {
          "book": "faith in a long shot (thoroughbred, #57)",
          "term": "derby",
          "tfidf": 0.3770825927368142
         },
         {
          "book": "faith in a long shot (thoroughbred, #57)",
          "term": "thoroughbred",
          "tfidf": 0.3660729049356552
         },
         {
          "book": "faith in a long shot (thoroughbred, #57)",
          "term": "crown",
          "tfidf": 0.32698158655234083
         },
         {
          "book": "grudge match (disney's kim possible, #11)",
          "term": "marc cerasini",
          "tfidf": 0.3969263513782577
         },
         {
          "book": "grudge match (disney's kim possible, #11)",
          "term": "ron",
          "tfidf": 0.3969263513782577
         },
         {
          "book": "grudge match (disney's kim possible, #11)",
          "term": "rumble",
          "tfidf": 0.3969263513782577
         },
         {
          "book": "grudge match (disney's kim possible, #11)",
          "term": "wrestlers",
          "tfidf": 0.3969263513782577
         },
         {
          "book": "grudge match (disney's kim possible, #11)",
          "term": "wrestling",
          "tfidf": 0.3691420200662773
         },
         {
          "book": "grudge match (disney's kim possible, #11)",
          "term": "kim",
          "tfidf": 0.34671020342547054
         },
         {
          "book": "grudge match (disney's kim possible, #11)",
          "term": "disney press",
          "tfidf": 0.33663643621603484
         },
         {
          "book": "kitty's class day",
          "term": "font",
          "tfidf": 0.40497391071217415
         },
         {
          "book": "kitty's class day",
          "term": "tiresias",
          "tfidf": 0.40497391071217415
         },
         {
          "book": "kitty's class day",
          "term": "louisa may alcott",
          "tfidf": 0.385381846709396
         },
         {
          "book": "kitty's class day",
          "term": "blind",
          "tfidf": 0.37193765377715177
         },
         {
          "book": "kitty's class day",
          "term": "print",
          "tfidf": 0.3691401218002128
         },
         {
          "book": "kitty's class day",
          "term": "echo library",
          "tfidf": 0.357352692350881
         },
         {
          "book": "kitty's class day",
          "term": "printed",
          "tfidf": 0.3480949596898521
         },
         {
          "book": "life of johnson (yale editions of the private papers of james boswell)",
          "term": "boswells",
          "tfidf": 0.40686236570152906
         },
         {
          "book": "life of johnson (yale editions of the private papers of james boswell)",
          "term": "james boswell",
          "tfidf": 0.40686236570152906
         },
         {
          "book": "life of johnson (yale editions of the private papers of james boswell)",
          "term": "samuel",
          "tfidf": 0.3927187679763451
         },
         {
          "book": "life of johnson (yale editions of the private papers of james boswell)",
          "term": "boswell",
          "tfidf": 0.37371959041511893
         },
         {
          "book": "life of johnson (yale editions of the private papers of james boswell)",
          "term": "edinburgh university press",
          "tfidf": 0.37006207047821826
         },
         {
          "book": "life of johnson (yale editions of the private papers of james boswell)",
          "term": "johnson",
          "tfidf": 0.3507456464138987
         },
         {
          "book": "life of johnson (yale editions of the private papers of james boswell)",
          "term": "manuscript",
          "tfidf": 0.33920970399692074
         },
         {
          "book": "martin bridge: sound the alarm!",
          "term": "jessica scott kerrin",
          "tfidf": 0.4233125787109336
         },
         {
          "book": "martin bridge: sound the alarm!",
          "term": "rocket",
          "tfidf": 0.3888297784943626
         },
         {
          "book": "martin bridge: sound the alarm!",
          "term": "stuart",
          "tfidf": 0.3850243781263377
         },
         {
          "book": "martin bridge: sound the alarm!",
          "term": "kids can press",
          "tfidf": 0.36979135379767103
         },
         {
          "book": "martin bridge: sound the alarm!",
          "term": "toy",
          "tfidf": 0.36268366724542217
         },
         {
          "book": "martin bridge: sound the alarm!",
          "term": "bridge",
          "tfidf": 0.3585153227616068
         },
         {
          "book": "martin bridge: sound the alarm!",
          "term": "martin",
          "tfidf": 0.3529245922638289
         },
         {
          "book": "on picket duty and other tales",
          "term": "font",
          "tfidf": 0.40497391071217415
         },
         {
          "book": "on picket duty and other tales",
          "term": "tiresias",
          "tfidf": 0.40497391071217415
         },
         {
          "book": "on picket duty and other tales",
          "term": "louisa may alcott",
          "tfidf": 0.385381846709396
         },
         {
          "book": "on picket duty and other tales",
          "term": "blind",
          "tfidf": 0.37193765377715177
         },
         {
          "book": "on picket duty and other tales",
          "term": "print",
          "tfidf": 0.3691401218002128
         },
         {
          "book": "on picket duty and other tales",
          "term": "echo library",
          "tfidf": 0.357352692350881
         },
         {
          "book": "on picket duty and other tales",
          "term": "printed",
          "tfidf": 0.3480949596898521
         },
         {
          "book": "ouran high school host club, vol. 1 (ouran high school host club, #1)",
          "term": "bisco hatori",
          "tfidf": 0.40508786847635136
         },
         {
          "book": "ouran high school host club, vol. 1 (ouran high school host club, #1)",
          "term": "haruhi",
          "tfidf": 0.40508786847635136
         },
         {
          "book": "ouran high school host club, vol. 1 (ouran high school host club, #1)",
          "term": "scholarship",
          "tfidf": 0.3832985480150079
         },
         {
          "book": "ouran high school host club, vol. 1 (ouran high school host club, #1)",
          "term": "wealthy",
          "tfidf": 0.3832985480150079
         },
         {
          "book": "ouran high school host club, vol. 1 (ouran high school host club, #1)",
          "term": "club",
          "tfidf": 0.36600339137950344
         },
         {
          "book": "ouran high school host club, vol. 1 (ouran high school host club, #1)",
          "term": "viz media",
          "tfidf": 0.35592020330304464
         },
         {
          "book": "ouran high school host club, vol. 1 (ouran high school host club, #1)",
          "term": "student",
          "tfidf": 0.3425411072924928
         },
         {
          "book": "ouran high school host club, vol. 4 (ouran high school host club, #4)",
          "term": "bisco hatori",
          "tfidf": 0.40508786847635136
         },
         {
          "book": "ouran high school host club, vol. 4 (ouran high school host club, #4)",
          "term": "haruhi",
          "tfidf": 0.40508786847635136
         },
         {
          "book": "ouran high school host club, vol. 4 (ouran high school host club, #4)",
          "term": "scholarship",
          "tfidf": 0.3832985480150079
         },
         {
          "book": "ouran high school host club, vol. 4 (ouran high school host club, #4)",
          "term": "wealthy",
          "tfidf": 0.3832985480150079
         },
         {
          "book": "ouran high school host club, vol. 4 (ouran high school host club, #4)",
          "term": "club",
          "tfidf": 0.36600339137950344
         },
         {
          "book": "ouran high school host club, vol. 4 (ouran high school host club, #4)",
          "term": "viz media",
          "tfidf": 0.35592020330304464
         },
         {
          "book": "ouran high school host club, vol. 4 (ouran high school host club, #4)",
          "term": "student",
          "tfidf": 0.3425411072924928
         },
         {
          "book": "pink floyd - dark side of the moon",
          "term": "clouds",
          "tfidf": 0.4094742288065941
         },
         {
          "book": "pink floyd - dark side of the moon",
          "term": "pianovocalguitar",
          "tfidf": 0.39291192143944703
         },
         {
          "book": "pink floyd - dark side of the moon",
          "term": "hal leonard publishing company",
          "tfidf": 0.3835598538964207
         },
         {
          "book": "pink floyd - dark side of the moon",
          "term": "album",
          "tfidf": 0.3808293236879353
         },
         {
          "book": "pink floyd - dark side of the moon",
          "term": "sky",
          "tfidf": 0.3713119717227051
         },
         {
          "book": "pink floyd - dark side of the moon",
          "term": "songbook",
          "tfidf": 0.36921671233494496
         },
         {
          "book": "pink floyd - dark side of the moon",
          "term": "hal leonard publishing corporation",
          "tfidf": 0.33407840639634956
         },
         {
          "book": "raggedy ann's book of thanks: little blessings for every day",
          "term": "smile",
          "tfidf": 0.40312656591805957
         },
         {
          "book": "raggedy ann's book of thanks: little blessings for every day",
          "term": "timeless",
          "tfidf": 0.40312656591805957
         },
         {
          "book": "raggedy ann's book of thanks: little blessings for every day",
          "term": "johnny gruelle",
          "tfidf": 0.3940422900243994
         },
         {
          "book": "raggedy ann's book of thanks: little blessings for every day",
          "term": "raggedy",
          "tfidf": 0.3749082276060877
         },
         {
          "book": "raggedy ann's book of thanks: little blessings for every day",
          "term": "heartfelt",
          "tfidf": 0.3619438307601636
         },
         {
          "book": "raggedy ann's book of thanks: little blessings for every day",
          "term": "simon & schuster children's publishing",
          "tfidf": 0.35514298267244016
         },
         {
          "book": "raggedy ann's book of thanks: little blessings for every day",
          "term": "ann",
          "tfidf": 0.3493172819672608
         },
         {
          "book": "s is for silence (kinsey millhone #19)",
          "term": "violets",
          "tfidf": 0.40843622487871
         },
         {
          "book": "s is for silence (kinsey millhone #19)",
          "term": "serena",
          "tfidf": 0.39423791570082195
         },
         {
          "book": "s is for silence (kinsey millhone #19)",
          "term": "sue grafton",
          "tfidf": 0.3886032160403822
         },
         {
          "book": "s is for silence (kinsey millhone #19)",
          "term": "daisy",
          "tfidf": 0.3751652439251283
         },
         {
          "book": "s is for silence (kinsey millhone #19)",
          "term": "violet",
          "tfidf": 0.3751652439251283
         },
         {
          "book": "s is for silence (kinsey millhone #19)",
          "term": "g.p. putnam's sons",
          "tfidf": 0.3543839352844104
         },
         {
          "book": "s is for silence (kinsey millhone #19)",
          "term": "independence",
          "tfidf": 0.3459161205079986
         },
         {
          "book": "secrets of the sphinx",
          "term": "james cross giblin",
          "tfidf": 0.41367612180590646
         },
         {
          "book": "secrets of the sphinx",
          "term": "sculptors",
          "tfidf": 0.3902977119804852
         },
         {
          "book": "secrets of the sphinx",
          "term": "sphinx",
          "tfidf": 0.3902977119804852
         },
         {
          "book": "secrets of the sphinx",
          "term": "pyramids",
          "tfidf": 0.38471932822392185
         },
         {
          "book": "secrets of the sphinx",
          "term": "monument",
          "tfidf": 0.36443683988908676
         },
         {
          "book": "secrets of the sphinx",
          "term": "scholastic press",
          "tfidf": 0.3532298912017573
         },
         {
          "book": "secrets of the sphinx",
          "term": "sculptures",
          "tfidf": 0.34440228001191653
         },
         {
          "book": "shakespeare: the complete works",
          "term": "heinle & heinle publishers",
          "tfidf": 0.40337029281766285
         },
         {
          "book": "shakespeare: the complete works",
          "term": "midsummer",
          "tfidf": 0.40337029281766285
         },
         {
          "book": "shakespeare: the complete works",
          "term": "tempest",
          "tfidf": 0.39682285881023105
         },
         {
          "book": "shakespeare: the complete works",
          "term": "juliet",
          "tfidf": 0.3739293884555195
         },
         {
          "book": "shakespeare: the complete works",
          "term": "sonnets",
          "tfidf": 0.36171030913254776
         },
         {
          "book": "shakespeare: the complete works",
          "term": "hamlet",
          "tfidf": 0.35913532398805526
         },
         {
          "book": "shakespeare: the complete works",
          "term": "william shakespeare",
          "tfidf": 0.3427546006264161
         },
         {
          "book": "she loves me not",
          "term": "wendy corsi staub",
          "tfidf": 0.4141056233552959
         },
         {
          "book": "she loves me not",
          "term": "loves",
          "tfidf": 0.38767527781217703
         },
         {
          "book": "she loves me not",
          "term": "valentine",
          "tfidf": 0.38767527781217703
         },
         {
          "book": "she loves me not",
          "term": "pinnacle",
          "tfidf": 0.38388117631467045
         },
         {
          "book": "she loves me not",
          "term": "roses",
          "tfidf": 0.3771594883537504
         },
         {
          "book": "she loves me not",
          "term": "rose",
          "tfidf": 0.35745083077155143
         },
         {
          "book": "she loves me not",
          "term": "heart",
          "tfidf": 0.33248632610793877
         },
         {
          "book": "sophie's lucky (sophie, #6)",
          "term": "dick king-smith",
          "tfidf": 0.4121339298145242
         },
         {
          "book": "sophie's lucky (sophie, #6)",
          "term": "fortune",
          "tfidf": 0.39040613760183995
         },
         {
          "book": "sophie's lucky (sophie, #6)",
          "term": "lady",
          "tfidf": 0.39040613760183995
         },
         {
          "book": "sophie's lucky (sophie, #6)",
          "term": "aunt",
          "tfidf": 0.3711274331497585
         },
         {
          "book": "sophie's lucky (sophie, #6)",
          "term": "sophie",
          "tfidf": 0.3668620439732574
         },
         {
          "book": "sophie's lucky (sophie, #6)",
          "term": "pony",
          "tfidf": 0.36114115371417566
         },
         {
          "book": "sophie's lucky (sophie, #6)",
          "term": "candlewick",
          "tfidf": 0.35009349535615875
         },
         {
          "book": "stand into danger (richard bolitho, #4)",
          "term": "bolitho",
          "tfidf": 0.4074493842083206
         },
         {
          "book": "stand into danger (richard bolitho, #4)",
          "term": "treason",
          "tfidf": 0.3997744470741346
         },
         {
          "book": "stand into danger (richard bolitho, #4)",
          "term": "frigate",
          "tfidf": 0.39328538018774734
         },
         {
          "book": "stand into danger (richard bolitho, #4)",
          "term": "lieutenant",
          "tfidf": 0.37827093088067637
         },
         {
          "book": "stand into danger (richard bolitho, #4)",
          "term": "alexander kent",
          "tfidf": 0.3672265471475965
         },
         {
          "book": "stand into danger (richard bolitho, #4)",
          "term": "officer",
          "tfidf": 0.35352769272077605
         },
         {
          "book": "stand into danger (richard bolitho, #4)",
          "term": "mcbooks press",
          "tfidf": 0.3414175404188461
         },
         {
          "book": "stranger in paradise (club paradise, #1)",
          "term": "carla",
          "tfidf": 0.42034141795231655
         },
         {
          "book": "stranger in paradise (club paradise, #1)",
          "term": "housekeeper",
          "tfidf": 0.39658632691010587
         },
         {
          "book": "stranger in paradise (club paradise, #1)",
          "term": "troll communications",
          "tfidf": 0.38591829850072334
         },
         {
          "book": "stranger in paradise (club paradise, #1)",
          "term": "club",
          "tfidf": 0.3642342976900537
         },
         {
          "book": "stranger in paradise (club paradise, #1)",
          "term": "marilyn kaye",
          "tfidf": 0.3642342976900537
         },
         {
          "book": "stranger in paradise (club paradise, #1)",
          "term": "danny",
          "tfidf": 0.361494706566278
         },
         {
          "book": "stranger in paradise (club paradise, #1)",
          "term": "paradise",
          "tfidf": 0.34797668663449327
         },
         {
          "book": "the 158-pound marriage",
          "term": "delicate",
          "tfidf": 0.4051426317453682
         },
         {
          "book": "the 158-pound marriage",
          "term": "spouses",
          "tfidf": 0.3960129247148308
         },
         {
          "book": "the 158-pound marriage",
          "term": "john irving",
          "tfidf": 0.3885534109216832
         },
         {
          "book": "the 158-pound marriage",
          "term": "black swan",
          "tfidf": 0.38224648187492205
         },
         {
          "book": "the 158-pound marriage",
          "term": "housewife",
          "tfidf": 0.3719641900979983
         },
         {
          "book": "the 158-pound marriage",
          "term": "obsession",
          "tfidf": 0.36375393867736067
         },
         {
          "book": "the 158-pound marriage",
          "term": "wife",
          "tfidf": 0.33357577660564686
         },
         {
          "book": "the anastasia syndrome and other stories",
          "term": "bombings",
          "tfidf": 0.4259132990786681
         },
         {
          "book": "the anastasia syndrome and other stories",
          "term": "mary higgins clark",
          "tfidf": 0.401982056744795
         },
         {
          "book": "the anastasia syndrome and other stories",
          "term": "novella",
          "tfidf": 0.37109760974688344
         },
         {
          "book": "the anastasia syndrome and other stories",
          "term": "demons",
          "tfidf": 0.36648587312237674
         },
         {
          "book": "the anastasia syndrome and other stories",
          "term": "haunting",
          "tfidf": 0.3622877080619514
         },
         {
          "book": "the anastasia syndrome and other stories",
          "term": "suspense",
          "tfidf": 0.35968436259028363
         },
         {
          "book": "the anastasia syndrome and other stories",
          "term": "arrow",
          "tfidf": 0.3526439173731315
         },
         {
          "book": "the black mountain",
          "term": "audio partners",
          "tfidf": 0.40661506832785993
         },
         {
          "book": "the black mountain",
          "term": "wolfes",
          "tfidf": 0.40080346651030324
         },
         {
          "book": "the black mountain",
          "term": "nero",
          "tfidf": 0.3869436074449504
         },
         {
          "book": "the black mountain",
          "term": "rex",
          "tfidf": 0.3831566666610483
         },
         {
          "book": "the black mountain",
          "term": "archie",
          "tfidf": 0.3679975360799104
         },
         {
          "book": "the black mountain",
          "term": "wolfe",
          "tfidf": 0.3495056152381866
         },
         {
          "book": "the black mountain",
          "term": "rex stout",
          "tfidf": 0.34628026113081894
         },
         {
          "book": "the commissariat of enlightenment: a novel",
          "term": "ken kalfus",
          "tfidf": 0.41207482788144906
         },
         {
          "book": "the commissariat of enlightenment: a novel",
          "term": "nikolai",
          "tfidf": 0.40278890692810626
         },
         {
          "book": "the commissariat of enlightenment: a novel",
          "term": "lenin",
          "tfidf": 0.3832301228034665
         },
         {
          "book": "the commissariat of enlightenment: a novel",
          "term": "bolshevik",
          "tfidf": 0.3739442018501238
         },
         {
          "book": "the commissariat of enlightenment: a novel",
          "term": "stalin",
          "tfidf": 0.3599422081834573
         },
         {
          "book": "the commissariat of enlightenment: a novel",
          "term": "tolstoy",
          "tfidf": 0.3599422081834573
         },
         {
          "book": "the commissariat of enlightenment: a novel",
          "term": "ecco",
          "tfidf": 0.34948398117350477
         },
         {
          "book": "the death of friends",
          "term": "chandler",
          "tfidf": 0.40153829012467984
         },
         {
          "book": "the death of friends",
          "term": "chris",
          "tfidf": 0.3957992488581973
         },
         {
          "book": "the death of friends",
          "term": "rios",
          "tfidf": 0.3907370557001861
         },
         {
          "book": "the death of friends",
          "term": "judge",
          "tfidf": 0.38211243657807914
         },
         {
          "book": "the death of friends",
          "term": "michael nava",
          "tfidf": 0.38211243657807914
         },
         {
          "book": "the death of friends",
          "term": "putnam adult",
          "tfidf": 0.3485820279739661
         },
         {
          "book": "the death of friends",
          "term": "court",
          "tfidf": 0.3404486023881857
         },
         {
          "book": "the enemy",
          "term": "pearl s. buck",
          "tfidf": 0.40714784227817846
         },
         {
          "book": "the enemy",
          "term": "creative education",
          "tfidf": 0.39947858515099915
         },
         {
          "book": "the enemy",
          "term": "wounded",
          "tfidf": 0.38737739523517406
         },
         {
          "book": "the enemy",
          "term": "surgeon",
          "tfidf": 0.37799098311038815
         },
         {
          "book": "the enemy",
          "term": "patient",
          "tfidf": 0.3703217259832089
         },
         {
          "book": "the enemy",
          "term": "sailor",
          "tfidf": 0.3703217259832089
         },
         {
          "book": "the enemy",
          "term": "wartime",
          "tfidf": 0.3277692838135809
         },
         {
          "book": "the father hunt: a nero wolfe mystery",
          "term": "amys",
          "tfidf": 0.41390589051168997
         },
         {
          "book": "the father hunt: a nero wolfe mystery",
          "term": "wolfes",
          "tfidf": 0.40799008361479555
         },
         {
          "book": "the father hunt: a nero wolfe mystery",
          "term": "audiogo",
          "tfidf": 0.38014099607239893
         },
         {
          "book": "the father hunt: a nero wolfe mystery",
          "term": "archie",
          "tfidf": 0.37459592558544363
         },
         {
          "book": "the father hunt: a nero wolfe mystery",
          "term": "amy",
          "tfidf": 0.3557724348704022
         },
         {
          "book": "the father hunt: a nero wolfe mystery",
          "term": "wolfe",
          "tfidf": 0.3557724348704022
         },
         {
          "book": "the father hunt: a nero wolfe mystery",
          "term": "rex stout",
          "tfidf": 0.3524892484663285
         },
         {
          "book": "the great shadow and other napoleonic tales",
          "term": "font",
          "tfidf": 0.4027986084263144
         },
         {
          "book": "the great shadow and other napoleonic tales",
          "term": "tiresias",
          "tfidf": 0.4027986084263144
         },
         {
          "book": "the great shadow and other napoleonic tales",
          "term": "arthur conan doyle",
          "tfidf": 0.39704155388707585
         },
         {
          "book": "the great shadow and other napoleonic tales",
          "term": "blind",
          "tfidf": 0.36993980451561304
         },
         {
          "book": "the great shadow and other napoleonic tales",
          "term": "print",
          "tfidf": 0.36715729937754743
         },
         {
          "book": "the great shadow and other napoleonic tales",
          "term": "echo library",
          "tfidf": 0.35543318566670473
         },
         {
          "book": "the great shadow and other napoleonic tales",
          "term": "printed",
          "tfidf": 0.34622518057203683
         },
         {
          "book": "the northern devil (devil, #4)",
          "term": "diane whiteside",
          "tfidf": 0.4077194072440779
         },
         {
          "book": "the northern devil (devil, #4)",
          "term": "marrying",
          "tfidf": 0.3935460165180331
         },
         {
          "book": "the northern devil (devil, #4)",
          "term": "brava",
          "tfidf": 0.3879212059218743
         },
         {
          "book": "the northern devil (devil, #4)",
          "term": "diane",
          "tfidf": 0.3829597713559165
         },
         {
          "book": "the northern devil (devil, #4)",
          "term": "lucas",
          "tfidf": 0.374506817844468
         },
         {
          "book": "the northern devil (devil, #4)",
          "term": "devil",
          "tfidf": 0.3514844800224743
         },
         {
          "book": "the northern devil (devil, #4)",
          "term": "rachel",
          "tfidf": 0.34343656335604406
         },
         {
          "book": "the painted veil",
          "term": "kittys",
          "tfidf": 0.40528149771479255
         },
         {
          "book": "the painted veil",
          "term": "veil",
          "tfidf": 0.39764739606397387
         },
         {
          "book": "the painted veil",
          "term": "w. somerset maugham",
          "tfidf": 0.39764739606397387
         },
         {
          "book": "the painted veil",
          "term": "blackstone audiobooks",
          "tfidf": 0.37226749902916617
         },
         {
          "book": "the painted veil",
          "term": "hong",
          "tfidf": 0.37226749902916617
         },
         {
          "book": "the painted veil",
          "term": "kitty",
          "tfidf": 0.3686241904243191
         },
         {
          "book": "the painted veil",
          "term": "affair",
          "tfidf": 0.3262668064395944
         },
         {
          "book": "the penelopiad",
          "term": "canongate books",
          "tfidf": 0.4085319383001207
         },
         {
          "book": "the penelopiad",
          "term": "ithaca",
          "tfidf": 0.3993258547704026
         },
         {
          "book": "the penelopiad",
          "term": "maids",
          "tfidf": 0.3750759353670686
         },
         {
          "book": "the penelopiad",
          "term": "odysseus",
          "tfidf": 0.3750759353670686
         },
         {
          "book": "the penelopiad",
          "term": "penelope",
          "tfidf": 0.3750759353670686
         },
         {
          "book": "the penelopiad",
          "term": "margaret atwood",
          "tfidf": 0.36679699934803106
         },
         {
          "book": "the penelopiad",
          "term": "odyssey",
          "tfidf": 0.34213243999286275
         },
         {
          "book": "the queen's necklace",
          "term": "antoinette",
          "tfidf": 0.4146907453157273
         },
         {
          "book": "the queen's necklace",
          "term": "necklace",
          "tfidf": 0.3977105615272565
         },
         {
          "book": "the queen's necklace",
          "term": "alexandre dumas",
          "tfidf": 0.3912549952596745
         },
         {
          "book": "the queen's necklace",
          "term": "queens",
          "tfidf": 0.37232663294849766
         },
         {
          "book": "the queen's necklace",
          "term": "monarchy",
          "tfidf": 0.3686827456116428
         },
         {
          "book": "the queen's necklace",
          "term": "scandal",
          "tfidf": 0.35933787613518814
         },
         {
          "book": "the queen's necklace",
          "term": "wildside press",
          "tfidf": 0.3363028782863159
         },
         {
          "book": "the saints' guide to happiness",
          "term": "robert ellsberg",
          "tfidf": 0.4149957452714581
         },
         {
          "book": "the saints' guide to happiness",
          "term": "north point press",
          "tfidf": 0.394844216630037
         },
         {
          "book": "the saints' guide to happiness",
          "term": "augustine",
          "tfidf": 0.3811904295435391
         },
         {
          "book": "the saints' guide to happiness",
          "term": "holiness",
          "tfidf": 0.3740279419322017
         },
         {
          "book": "the saints' guide to happiness",
          "term": "saints",
          "tfidf": 0.3740279419322017
         },
         {
          "book": "the saints' guide to happiness",
          "term": "teresa",
          "tfidf": 0.3740279419322017
         },
         {
          "book": "the saints' guide to happiness",
          "term": "happiness",
          "tfidf": 0.32692465246092467
         },
         {
          "book": "the secret of the caves (hardy boys, #7)",
          "term": "caves",
          "tfidf": 0.4151472151624599
         },
         {
          "book": "the secret of the caves (hardy boys, #7)",
          "term": "franklin w. dixon",
          "tfidf": 0.40840862027075825
         },
         {
          "book": "the secret of the caves (hardy boys, #7)",
          "term": "professor",
          "tfidf": 0.3848467451590007
         },
         {
          "book": "the secret of the caves (hardy boys, #7)",
          "term": "listening library",
          "tfidf": 0.3671221064527508
         },
         {
          "book": "the secret of the caves (hardy boys, #7)",
          "term": "joe",
          "tfidf": 0.3647585936776618
         },
         {
          "book": "the secret of the caves (hardy boys, #7)",
          "term": "frank",
          "tfidf": 0.3564067405173333
         },
         {
          "book": "the secret of the caves (hardy boys, #7)",
          "term": "mysterious",
          "tfidf": 0.34335831718150234
         },
         {
          "book": "the world holiday and time zone guide",
          "term": "chandler house press",
          "tfidf": 0.40294725951904625
         },
         {
          "book": "the world holiday and time zone guide",
          "term": "terri morrison",
          "tfidf": 0.40294725951904625
         },
         {
          "book": "the world holiday and time zone guide",
          "term": "calendars",
          "tfidf": 0.3938670242144611
         },
         {
          "book": "the world holiday and time zone guide",
          "term": "calendar",
          "tfidf": 0.38017517847665394
         },
         {
          "book": "the world holiday and time zone guide",
          "term": "traveler",
          "tfidf": 0.3747414724231356
         },
         {
          "book": "the world holiday and time zone guide",
          "term": "trading",
          "tfidf": 0.3440687270481144
         },
         {
          "book": "the world holiday and time zone guide",
          "term": "holidays",
          "tfidf": 0.3417428169142708
         },
         {
          "book": "too many cooks (nero wolfe, #5)",
          "term": "wolfes",
          "tfidf": 0.4210779772378478
         },
         {
          "book": "too many cooks (nero wolfe, #5)",
          "term": "crimeline",
          "tfidf": 0.39233552019974044
         },
         {
          "book": "too many cooks (nero wolfe, #5)",
          "term": "chefs",
          "tfidf": 0.38152689674863316
         },
         {
          "book": "too many cooks (nero wolfe, #5)",
          "term": "wolfe",
          "tfidf": 0.36718524113359163
         },
         {
          "book": "too many cooks (nero wolfe, #5)",
          "term": "rex stout",
          "tfidf": 0.3637967335559726
         },
         {
          "book": "too many cooks (nero wolfe, #5)",
          "term": "meal",
          "tfidf": 0.3606421084725836
         },
         {
          "book": "too many cooks (nero wolfe, #5)",
          "term": "cooks",
          "tfidf": 0.35491915794496004
         },
         {
          "book": "toy story sketchbook (the sketchbook series)",
          "term": "pixar",
          "tfidf": 0.4173645097712846
         },
         {
          "book": "toy story sketchbook (the sketchbook series)",
          "term": "sketchbook",
          "tfidf": 0.39491483956318024
         },
         {
          "book": "toy story sketchbook (the sketchbook series)",
          "term": "walt disney company",
          "tfidf": 0.37709553384626193
         },
         {
          "book": "toy story sketchbook (the sketchbook series)",
          "term": "animation",
          "tfidf": 0.3715948871464902
         },
         {
          "book": "toy story sketchbook (the sketchbook series)",
          "term": "applewood books",
          "tfidf": 0.36670676346838876
         },
         {
          "book": "toy story sketchbook (the sketchbook series)",
          "term": "toy",
          "tfidf": 0.3644525352360649
         },
         {
          "book": "toy story sketchbook (the sketchbook series)",
          "term": "disney",
          "tfidf": 0.349665315498259
         },
         {
          "book": "unlocking the secrets of your childhood memories",
          "term": "experience",
          "tfidf": 0.41037650921983987
         },
         {
          "book": "unlocking the secrets of your childhood memories",
          "term": "brains",
          "tfidf": 0.40512787582001886
         },
         {
          "book": "unlocking the secrets of your childhood memories",
          "term": "computer",
          "tfidf": 0.38874136861079517
         },
         {
          "book": "unlocking the secrets of your childhood memories",
          "term": "thomas nelson publishers",
          "tfidf": 0.37678702126218655
         },
         {
          "book": "unlocking the secrets of your childhood memories",
          "term": "kevin leman",
          "tfidf": 0.36737069096872044
         },
         {
          "book": "unlocking the secrets of your childhood memories",
          "term": "birth",
          "tfidf": 0.34860062744528125
         },
         {
          "book": "unlocking the secrets of your childhood memories",
          "term": "memories",
          "tfidf": 0.3433519940454603
         },
         {
          "book": "virginia and maryland (fodor's virginia & maryland)",
          "term": "fodor's travel publications inc.",
          "tfidf": 0.4140351182763841
         },
         {
          "book": "virginia and maryland (fodor's virginia & maryland)",
          "term": "fodor's travel publications inc.,u.s.",
          "tfidf": 0.4028977237054016
         },
         {
          "book": "virginia and maryland (fodor's virginia & maryland)",
          "term": "hotels",
          "tfidf": 0.38660142111028867
         },
         {
          "book": "virginia and maryland (fodor's virginia & maryland)",
          "term": "jefferson",
          "tfidf": 0.3773995557425804
         },
         {
          "book": "virginia and maryland (fodor's virginia & maryland)",
          "term": "attractions",
          "tfidf": 0.35762164013338377
         },
         {
          "book": "virginia and maryland (fodor's virginia & maryland)",
          "term": "restaurant",
          "tfidf": 0.35104417392686016
         },
         {
          "book": "virginia and maryland (fodor's virginia & maryland)",
          "term": "restaurants",
          "tfidf": 0.35104417392686016
         },
         {
          "book": "white lies (arcane society, #2)",
          "term": "salter",
          "tfidf": 0.41204509549591944
         },
         {
          "book": "white lies (arcane society, #2)",
          "term": "lies",
          "tfidf": 0.39517324212158905
         },
         {
          "book": "white lies (arcane society, #2)",
          "term": "deception",
          "tfidf": 0.38320247164647564
         },
         {
          "book": "white lies (arcane society, #2)",
          "term": "jayne ann krentz",
          "tfidf": 0.38320247164647564
         },
         {
          "book": "white lies (arcane society, #2)",
          "term": "clare",
          "tfidf": 0.37830138874725877
         },
         {
          "book": "white lies (arcane society, #2)",
          "term": "piatkus books",
          "tfidf": 0.3599162373165711
         },
         {
          "book": "white lies (arcane society, #2)",
          "term": "psychic",
          "tfidf": 0.32820274347529726
         }
        ]
       },
       "layer": [
        {
         "encoding": {
          "color": {
           "field": "tfidf",
           "scale": {
            "scheme": "redpurple"
           },
           "type": "quantitative"
          },
          "x": {
           "field": "rank",
           "type": "ordinal"
          },
          "y": {
           "field": "book",
           "type": "nominal"
          }
         },
         "mark": {
          "size": 5,
          "type": "rect"
         },
         "transform": [
          {
           "groupby": [
            "book"
           ],
           "sort": [
            {
             "field": "tfidf",
             "order": "descending"
            }
           ],
           "window": [
            {
             "as": "rank",
             "field": "",
             "op": "dense_rank"
            }
           ]
          }
         ]
        },
        {
         "encoding": {
          "color": {
           "condition": {
            "test": "(datum.tfidf >= 0.23)",
            "value": "white"
           },
           "value": "black"
          },
          "text": {
           "field": "term",
           "type": "nominal"
          },
          "x": {
           "field": "rank",
           "type": "ordinal"
          },
          "y": {
           "field": "book",
           "type": "nominal"
          }
         },
         "mark": {
          "align": "center",
          "baseline": "middle",
          "lineBreak": "",
          "type": "text"
         },
         "transform": [
          {
           "groupby": [
            "book"
           ],
           "sort": [
            {
             "field": "tfidf",
             "order": "descending"
            }
           ],
           "window": [
            {
             "as": "rank",
             "field": "",
             "op": "dense_rank"
            }
           ]
          }
         ]
        }
       ],
       "width": 800
      },
      "text/plain": [
       "<VegaLite 5 object>\n",
       "\n",
       "If you see this message, it means the renderer has not been properly enabled\n",
       "for the frontend that you are using. For more information, see\n",
       "https://altair-viz.github.io/user_guide/display_frontends.html#troubleshooting\n"
      ]
     },
     "execution_count": 43,
     "metadata": {},
     "output_type": "execute_result"
    }
   ],
   "source": [
    "import altair as alt\n",
    "alt.renderers.enable('mimetype')\n",
    "grid = alt.Chart(tfidf_vec).encode(\n",
    "    x = 'rank:O',\n",
    "    y = 'book:N'\n",
    ").transform_window(\n",
    "    rank = \"dense_rank()\",\n",
    "    sort = [alt.SortField(\"tfidf\", order=\"descending\")],\n",
    "    groupby = [\"book\"],\n",
    ")\n",
    "heatmap = grid.mark_rect(size=5).encode(\n",
    "    alt.Color('tfidf:Q', scale=alt.Scale(scheme='redpurple'))\n",
    ")\n",
    "text = grid.mark_text(align='center', baseline='middle', lineBreak='').encode(\n",
    "    text = 'term:N',\n",
    "    color = alt.condition(alt.datum.tfidf >= 0.23, alt.value('white'), alt.value('black'))\n",
    ")\n",
    "(heatmap+text).properties(width = 800)"
   ]
  },
  {
   "cell_type": "markdown",
   "id": "a5459cfe-67f7-4e78-9035-19bb2e852625",
   "metadata": {},
   "source": [
    "---\n",
    "### Cosine Similarity between books vector representation"
   ]
  },
  {
   "cell_type": "code",
   "execution_count": 44,
   "id": "dd262636-e4ce-49a8-9a25-92ca88a62e57",
   "metadata": {},
   "outputs": [],
   "source": [
    "from sklearn.metrics.pairwise import cosine_similarity\n",
    "book_cosine_sim = cosine_similarity(tfidf_encoding, tfidf_encoding)"
   ]
  },
  {
   "cell_type": "code",
   "execution_count": 45,
   "id": "5b4dea6f-9426-46b7-88a9-c533cc0a41f0",
   "metadata": {},
   "outputs": [
    {
     "data": {
      "text/plain": [
       "array([[1., 0., 0., ..., 0., 0., 0.],\n",
       "       [0., 1., 0., ..., 0., 0., 0.],\n",
       "       [0., 0., 1., ..., 0., 0., 0.],\n",
       "       ...,\n",
       "       [0., 0., 0., ..., 1., 0., 0.],\n",
       "       [0., 0., 0., ..., 0., 1., 0.],\n",
       "       [0., 0., 0., ..., 0., 0., 1.]])"
      ]
     },
     "execution_count": 45,
     "metadata": {},
     "output_type": "execute_result"
    }
   ],
   "source": [
    "# Preview Similarity Matrix\n",
    "book_cosine_sim"
   ]
  },
  {
   "cell_type": "code",
   "execution_count": 46,
   "id": "4ad73b3e-29f4-4967-8067-c1ee78242acb",
   "metadata": {},
   "outputs": [
    {
     "ename": "MemoryError",
     "evalue": "Unable to allocate 6.44 GiB for an array with shape (29394, 29394) and data type float64",
     "output_type": "error",
     "traceback": [
      "\u001b[1;31m---------------------------------------------------------------------------\u001b[0m",
      "\u001b[1;31mMemoryError\u001b[0m                               Traceback (most recent call last)",
      "\u001b[1;32m~\\AppData\\Local\\Temp\\ipykernel_29012\\2419399963.py\u001b[0m in \u001b[0;36m<module>\u001b[1;34m\u001b[0m\n\u001b[0;32m      3\u001b[0m \u001b[1;33m\u001b[0m\u001b[0m\n\u001b[0;32m      4\u001b[0m \u001b[0mplt\u001b[0m\u001b[1;33m.\u001b[0m\u001b[0mfigure\u001b[0m\u001b[1;33m(\u001b[0m\u001b[0mfigsize\u001b[0m\u001b[1;33m=\u001b[0m\u001b[1;33m(\u001b[0m\u001b[1;36m6\u001b[0m\u001b[1;33m,\u001b[0m \u001b[1;36m6\u001b[0m\u001b[1;33m)\u001b[0m\u001b[1;33m,\u001b[0m \u001b[0mdpi\u001b[0m\u001b[1;33m=\u001b[0m\u001b[1;36m80\u001b[0m\u001b[1;33m)\u001b[0m\u001b[1;33m\u001b[0m\u001b[1;33m\u001b[0m\u001b[0m\n\u001b[1;32m----> 5\u001b[1;33m \u001b[0mplt\u001b[0m\u001b[1;33m.\u001b[0m\u001b[0mspy\u001b[0m\u001b[1;33m(\u001b[0m\u001b[0mbook_cosine_sim\u001b[0m\u001b[1;33m,\u001b[0m \u001b[0mprecision\u001b[0m \u001b[1;33m=\u001b[0m \u001b[1;36m0.1\u001b[0m\u001b[1;33m,\u001b[0m \u001b[0mmarkersize\u001b[0m \u001b[1;33m=\u001b[0m \u001b[1;36m0.04\u001b[0m\u001b[1;33m)\u001b[0m\u001b[1;33m\u001b[0m\u001b[1;33m\u001b[0m\u001b[0m\n\u001b[0m\u001b[0;32m      6\u001b[0m \u001b[0mplt\u001b[0m\u001b[1;33m.\u001b[0m\u001b[0mtight_layout\u001b[0m\u001b[1;33m(\u001b[0m\u001b[1;33m)\u001b[0m\u001b[1;33m\u001b[0m\u001b[1;33m\u001b[0m\u001b[0m\n\u001b[0;32m      7\u001b[0m \u001b[0mplt\u001b[0m\u001b[1;33m.\u001b[0m\u001b[0mshow\u001b[0m\u001b[1;33m(\u001b[0m\u001b[1;33m)\u001b[0m\u001b[1;33m\u001b[0m\u001b[1;33m\u001b[0m\u001b[0m\n",
      "\u001b[1;32mc:\\users\\hp\\appdata\\local\\programs\\python\\python37\\lib\\site-packages\\matplotlib\\pyplot.py\u001b[0m in \u001b[0;36mspy\u001b[1;34m(Z, precision, marker, markersize, aspect, origin, **kwargs)\u001b[0m\n\u001b[0;32m   2860\u001b[0m     __ret = gca().spy(\n\u001b[0;32m   2861\u001b[0m         \u001b[0mZ\u001b[0m\u001b[1;33m,\u001b[0m \u001b[0mprecision\u001b[0m\u001b[1;33m=\u001b[0m\u001b[0mprecision\u001b[0m\u001b[1;33m,\u001b[0m \u001b[0mmarker\u001b[0m\u001b[1;33m=\u001b[0m\u001b[0mmarker\u001b[0m\u001b[1;33m,\u001b[0m \u001b[0mmarkersize\u001b[0m\u001b[1;33m=\u001b[0m\u001b[0mmarkersize\u001b[0m\u001b[1;33m,\u001b[0m\u001b[1;33m\u001b[0m\u001b[1;33m\u001b[0m\u001b[0m\n\u001b[1;32m-> 2862\u001b[1;33m         aspect=aspect, origin=origin, **kwargs)\n\u001b[0m\u001b[0;32m   2863\u001b[0m     \u001b[1;32mif\u001b[0m \u001b[0misinstance\u001b[0m\u001b[1;33m(\u001b[0m\u001b[0m__ret\u001b[0m\u001b[1;33m,\u001b[0m \u001b[0mcm\u001b[0m\u001b[1;33m.\u001b[0m\u001b[0mScalarMappable\u001b[0m\u001b[1;33m)\u001b[0m\u001b[1;33m:\u001b[0m \u001b[0msci\u001b[0m\u001b[1;33m(\u001b[0m\u001b[0m__ret\u001b[0m\u001b[1;33m)\u001b[0m  \u001b[1;31m# noqa\u001b[0m\u001b[1;33m\u001b[0m\u001b[1;33m\u001b[0m\u001b[0m\n\u001b[0;32m   2864\u001b[0m     \u001b[1;32mreturn\u001b[0m \u001b[0m__ret\u001b[0m\u001b[1;33m\u001b[0m\u001b[1;33m\u001b[0m\u001b[0m\n",
      "\u001b[1;32mc:\\users\\hp\\appdata\\local\\programs\\python\\python37\\lib\\site-packages\\matplotlib\\axes\\_axes.py\u001b[0m in \u001b[0;36mspy\u001b[1;34m(self, Z, precision, marker, markersize, aspect, origin, **kwargs)\u001b[0m\n\u001b[0;32m   7761\u001b[0m             \u001b[1;32melse\u001b[0m\u001b[1;33m:\u001b[0m\u001b[1;33m\u001b[0m\u001b[1;33m\u001b[0m\u001b[0m\n\u001b[0;32m   7762\u001b[0m                 \u001b[0mZ\u001b[0m \u001b[1;33m=\u001b[0m \u001b[0mnp\u001b[0m\u001b[1;33m.\u001b[0m\u001b[0masarray\u001b[0m\u001b[1;33m(\u001b[0m\u001b[0mZ\u001b[0m\u001b[1;33m)\u001b[0m\u001b[1;33m\u001b[0m\u001b[1;33m\u001b[0m\u001b[0m\n\u001b[1;32m-> 7763\u001b[1;33m                 \u001b[0mnonzero\u001b[0m \u001b[1;33m=\u001b[0m \u001b[0mnp\u001b[0m\u001b[1;33m.\u001b[0m\u001b[0mabs\u001b[0m\u001b[1;33m(\u001b[0m\u001b[0mZ\u001b[0m\u001b[1;33m)\u001b[0m \u001b[1;33m>\u001b[0m \u001b[0mprecision\u001b[0m\u001b[1;33m\u001b[0m\u001b[1;33m\u001b[0m\u001b[0m\n\u001b[0m\u001b[0;32m   7764\u001b[0m                 \u001b[0my\u001b[0m\u001b[1;33m,\u001b[0m \u001b[0mx\u001b[0m \u001b[1;33m=\u001b[0m \u001b[0mnp\u001b[0m\u001b[1;33m.\u001b[0m\u001b[0mnonzero\u001b[0m\u001b[1;33m(\u001b[0m\u001b[0mnonzero\u001b[0m\u001b[1;33m)\u001b[0m\u001b[1;33m\u001b[0m\u001b[1;33m\u001b[0m\u001b[0m\n\u001b[0;32m   7765\u001b[0m             \u001b[1;32mif\u001b[0m \u001b[0mmarker\u001b[0m \u001b[1;32mis\u001b[0m \u001b[1;32mNone\u001b[0m\u001b[1;33m:\u001b[0m\u001b[1;33m\u001b[0m\u001b[1;33m\u001b[0m\u001b[0m\n",
      "\u001b[1;31mMemoryError\u001b[0m: Unable to allocate 6.44 GiB for an array with shape (29394, 29394) and data type float64"
     ]
    },
    {
     "data": {
      "image/png": "[encoded data removed]",
      "text/plain": [
       "<Figure size 480x480 with 1 Axes>"
      ]
     },
     "metadata": {},
     "output_type": "display_data"
    }
   ],
   "source": [
    "# Vidualize similarity between books\n",
    "import matplotlib.pyplot as plt\n",
    "\n",
    "plt.figure(figsize=(6, 6), dpi=80)\n",
    "plt.spy(book_cosine_sim, precision = 0.1, markersize = 0.04)\n",
    "plt.tight_layout()\n",
    "plt.show()\n"
   ]
  },
  {
   "cell_type": "markdown",
   "id": "6fa19c9b-539f-43eb-850d-8675f3ef3f27",
   "metadata": {},
   "source": [
    "---\n",
    "### Recommendation\n",
    "- Given a book name, find top n similar books based on cosine similarity score.\n",
    "1) Series Information\n",
    "2) Other Books In Numbered Series\n",
    "3) Theme\n",
    "4) Author"
   ]
  },
  {
   "cell_type": "code",
   "execution_count": 47,
   "id": "204166ab-9586-4837-abf8-d590cfc3e496",
   "metadata": {},
   "outputs": [],
   "source": [
    "books = pd.Series(model_data['Name'])\n",
    "\n",
    "def recommend_books_similar_to(book_name, n=5, cosine_sim_mat=book_cosine_sim):\n",
    "    # get index of the imput book\n",
    "    input_idx = books[books == book_name].index[0]   \n",
    "    # Find top n similar books with decreasing order of similarity score\n",
    "    top_n_books_idx = list(pd.Series(cosine_sim_mat[input_idx]).sort_values(ascending = False).iloc[1:n+1].index)\n",
    "    # [1:6] to exclude 0 (index 0 is the input movie itself)\n",
    "    \n",
    "    books_list = list(books)\n",
    "    recommended_books = [books[i] for i in top_n_books_idx]\n",
    "        \n",
    "    return recommended_books"
   ]
  },
  {
   "cell_type": "code",
   "execution_count": 48,
   "id": "a3711ced-7743-4204-ae17-bbe3c4123a9e",
   "metadata": {},
   "outputs": [
    {
     "name": "stdout",
     "output_type": "stream",
     "text": [
      "\u001b[1mRecommendation (Series Information) based on the read: The Eastland Disaster (Images of America: Illinois)\u001b[0m\n"
     ]
    },
    {
     "data": {
      "text/plain": [
       "['forgotten chicago (images of america: illinois)',\n",
       " 'mount carmel and queen of heaven cemeteries (images of america: illinois)',\n",
       " \"chicago's southeast side (images of america: illinois)\",\n",
       " 'st. charles: culture and leisure in an all-american town (images of america: illinois)',\n",
       " 'the great fire of london 1666 (all about...)']"
      ]
     },
     "metadata": {},
     "output_type": "display_data"
    },
    {
     "name": "stdout",
     "output_type": "stream",
     "text": [
      "\n",
      "\u001b[1mRecommendation (Numbered Series) based on the read: The Majolica Murders (Antique Lover, #5)\u001b[0m\n"
     ]
    },
    {
     "data": {
      "text/plain": [
       "['four on the floor (antique lover, #4)',\n",
       " 'caught dead',\n",
       " 'the weedless widow (antique lover, #2)',\n",
       " 'the marriage casket (antique lover, #3)',\n",
       " 'how to build outdoor structures']"
      ]
     },
     "metadata": {},
     "output_type": "display_data"
    },
    {
     "name": "stdout",
     "output_type": "stream",
     "text": [
      "\n",
      "\u001b[1mRecommendation (Theme: Programming) based on the read: The Practice of Programming (Addison-Wesley Professional Computing Series)\u001b[0m\n"
     ]
    },
    {
     "data": {
      "text/plain": [
       "['unix for the mainframer: the essential reference for commands, conversions, tcp/ip',\n",
       " 'smalltalk with style',\n",
       " 'the c++ programming language',\n",
       " 'sams teach yourself beginning programming in 24 hours',\n",
       " 'data structures & other objects using java']"
      ]
     },
     "metadata": {},
     "output_type": "display_data"
    },
    {
     "name": "stdout",
     "output_type": "stream",
     "text": [
      "\n",
      "\u001b[1mRecommendation (Author: Dean Koontz) based on the read: Cold Fire\u001b[0m\n"
     ]
    },
    {
     "data": {
      "text/plain": [
       "['the big island',\n",
       " 'papa jack: jack johnson and the era of white hopes',\n",
       " 'darkfall',\n",
       " 'keeping watch: heart of the night\\\\accidental bodyguard',\n",
       " \"a mother's gift\"]"
      ]
     },
     "metadata": {},
     "output_type": "display_data"
    }
   ],
   "source": [
    "# Recommendations with series information\n",
    "print(\"\\033[1m{}\\033[0m\".format(\"Recommendation (Series Information) based on the read: The Eastland Disaster (Images of America: Illinois)\"))\n",
    "display(recommend_books_similar_to(\"the eastland disaster (images of america: illinois)\", 5))\n",
    "\n",
    "# Recommendations with series information numbered\n",
    "print(\"\\n\\033[1m{}\\033[0m\".format(\"Recommendation (Numbered Series) based on the read: The Majolica Murders (Antique Lover, #5)\"))\n",
    "display(recommend_books_similar_to(\"the majolica murders (antique lover, #5)\", 5))\n",
    "\n",
    "print(\"\\n\\033[1m{}\\033[0m\".format(\"Recommendation (Theme: Programming) based on the read: The Practice of Programming (Addison-Wesley Professional Computing Series)\"))\n",
    "display(recommend_books_similar_to('the practice of programming (addison-wesley professional computing series)', 5))\n",
    "\n",
    "print(\"\\n\\033[1m{}\\033[0m\".format(\"Recommendation (Author: Dean Koontz) based on the read: Cold Fire\"))\n",
    "display(recommend_books_similar_to(\"cold fire\",5))"
   ]
  },
  {
   "cell_type": "code",
   "execution_count": 49,
   "id": "e766247c",
   "metadata": {},
   "outputs": [
    {
     "ename": "ImportError",
     "evalue": "cannot import name 'joblib' from 'sklearn.externals' (c:\\users\\hp\\appdata\\local\\programs\\python\\python37\\lib\\site-packages\\sklearn\\externals\\__init__.py)",
     "output_type": "error",
     "traceback": [
      "\u001b[1;31m---------------------------------------------------------------------------\u001b[0m",
      "\u001b[1;31mImportError\u001b[0m                               Traceback (most recent call last)",
      "\u001b[1;32m~\\AppData\\Local\\Temp\\ipykernel_29012\\2914391509.py\u001b[0m in \u001b[0;36m<module>\u001b[1;34m\u001b[0m\n\u001b[0;32m      3\u001b[0m \u001b[1;32mfrom\u001b[0m \u001b[0msklearn\u001b[0m\u001b[1;33m.\u001b[0m\u001b[0mlinear_model\u001b[0m \u001b[1;32mimport\u001b[0m \u001b[0mLogisticRegression\u001b[0m\u001b[1;33m\u001b[0m\u001b[1;33m\u001b[0m\u001b[0m\n\u001b[0;32m      4\u001b[0m \u001b[1;32mfrom\u001b[0m \u001b[0msklearn\u001b[0m\u001b[1;33m.\u001b[0m\u001b[0mpipeline\u001b[0m \u001b[1;32mimport\u001b[0m \u001b[0mPipeline\u001b[0m\u001b[1;33m\u001b[0m\u001b[1;33m\u001b[0m\u001b[0m\n\u001b[1;32m----> 5\u001b[1;33m \u001b[1;32mfrom\u001b[0m \u001b[0msklearn\u001b[0m\u001b[1;33m.\u001b[0m\u001b[0mexternals\u001b[0m \u001b[1;32mimport\u001b[0m \u001b[0mjoblib\u001b[0m\u001b[1;33m\u001b[0m\u001b[1;33m\u001b[0m\u001b[0m\n\u001b[0m\u001b[0;32m      6\u001b[0m \u001b[1;33m\u001b[0m\u001b[0m\n\u001b[0;32m      7\u001b[0m \u001b[1;31m# Assuming you have a column 'Label' in your model_data dataframe indicating the category of each book\u001b[0m\u001b[1;33m\u001b[0m\u001b[1;33m\u001b[0m\u001b[1;33m\u001b[0m\u001b[0m\n",
      "\u001b[1;31mImportError\u001b[0m: cannot import name 'joblib' from 'sklearn.externals' (c:\\users\\hp\\appdata\\local\\programs\\python\\python37\\lib\\site-packages\\sklearn\\externals\\__init__.py)"
     ]
    }
   ],
   "source": [
    "# Import necessary libraries\n",
    "from sklearn.model_selection import train_test_split\n",
    "from sklearn.linear_model import LogisticRegression\n",
    "from sklearn.pipeline import Pipeline\n",
    "from sklearn.externals import joblib\n",
    "\n",
    "# Assuming you have a column 'Label' in your model_data dataframe indicating the category of each book\n",
    "\n",
    "# Split the data into training and testing sets\n",
    "X_train, X_test, y_train, y_test = train_test_split(model_data['keywords'], model_data['Label'], test_size=0.2, random_state=42)\n",
    "\n",
    "# Create a pipeline with TF-IDF vectorizer and a classifier (e.g., Logistic Regression)\n",
    "model = Pipeline([\n",
    "    ('tfidf', TfidfVectorizer(analyzer='word', min_df=3, max_df=0.6, stop_words='english', encoding='utf-8', token_pattern=r\"(?u)\\S\\S+\")),\n",
    "    ('classifier', LogisticRegression())\n",
    "])\n",
    "\n",
    "# Train the model\n",
    "model.fit(X_train, y_train)\n",
    "\n",
    "# Save the model to an h5 file\n",
    "joblib.dump(model, 'text_classification_model.h5')\n"
   ]
  },
  {
   "cell_type": "code",
   "execution_count": null,
   "id": "311d6c97",
   "metadata": {},
   "outputs": [],
   "source": []
  }
 ],
 "metadata": {
  "kernelspec": {
   "display_name": "Python 3 (ipykernel)",
   "language": "python",
   "name": "python3"
  },
  "language_info": {
   "codemirror_mode": {
    "name": "ipython",
    "version": 3
   },
   "file_extension": ".py",
   "mimetype": "text/x-python",
   "name": "python",
   "nbconvert_exporter": "python",
   "pygments_lexer": "ipython3",
   "version": "3.7.6"
  }
 },
 "nbformat": 4,
 "nbformat_minor": 5
}
